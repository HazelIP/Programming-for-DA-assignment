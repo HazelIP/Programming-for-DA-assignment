{
 "cells": [
  {
   "cell_type": "markdown",
   "id": "178636ee-32a4-4a3f-bb74-286980ceabb1",
   "metadata": {},
   "source": [
    "![alt text](random_no_pic.jpg \"Random\")"
   ]
  },
  {
   "cell_type": "markdown",
   "id": "b0be0df5-8a6d-42c0-ae13-05860c4caa90",
   "metadata": {},
   "source": [
    "# Numpy.random packagage\n",
    "***\n",
    "This notebook is part of the assessment of the course \"Programming for Data Analysis\". It explains the use of Numpy.random package and demostrates some features and distributions.\n",
    "<br>\n",
    "<br>"
   ]
  },
  {
   "cell_type": "markdown",
   "id": "5b1655c1-dc2a-415b-868c-29b0072684a8",
   "metadata": {},
   "source": [
    "## What is numpy and numpy.random package?\n",
    "**Numpy** is a python library that performs efficient calculations on multidimensional array and matrix data structures.\n",
    "<br>\n",
    "**numpy.random package** produces pseudo random numbers using combinations of a BitGenerator to create sequences and a Generator to use those sequences to sample from different statistical distributions[1]. <br>\n",
    "<br>"
   ]
  },
  {
   "cell_type": "markdown",
   "id": "54006d1b-bfb3-4ca5-bb55-c8b98d6d596d",
   "metadata": {},
   "source": [
    "## Simple Random Data \n",
    "https://numpy.org/doc/stable/reference/random/generator.html <br>\n",
    "***"
   ]
  },
  {
   "cell_type": "markdown",
   "id": "e81b901a-226d-4bd1-9999-4d81e1d66d36",
   "metadata": {},
   "source": [
    "**Why do we need random data?** <br>\n",
    "Random numbers are used for various purposes, from statistical analysis and probability theory, to cryptography and computer simulation. \n",
    "<br>\n",
    "<br>\n",
    "**How to generate random data?**<br>\n",
    "Generating Psuedo-random number is easy, get a new instance of generator first, then simply call .random(). Note the default type is a float number."
   ]
  },
  {
   "cell_type": "code",
   "execution_count": 2,
   "id": "c93aa71b-dfa4-4894-b1a6-03c9b34036c2",
   "metadata": {},
   "outputs": [],
   "source": [
    "# set up\n",
    "import numpy as np\n",
    "import matplotlib.pyplot as plt\n",
    "import seaborn as sns"
   ]
  },
  {
   "cell_type": "markdown",
   "id": "a8339805-8d1e-494e-9996-f10bd3979d65",
   "metadata": {},
   "source": [
    "<br>"
   ]
  },
  {
   "cell_type": "markdown",
   "id": "738c52be-ce26-498d-b5da-e62603dc8eb6",
   "metadata": {},
   "source": [
    "#### Generate random floats\n",
    "It returns random float number or array of random float number between 0(inclusive) and 1 (exclusive). "
   ]
  },
  {
   "cell_type": "code",
   "execution_count": 3,
   "id": "252ca6f5-0139-407a-892e-2f9964884d98",
   "metadata": {},
   "outputs": [
    {
     "name": "stdout",
     "output_type": "stream",
     "text": [
      "0.14347409249790877\n"
     ]
    }
   ],
   "source": [
    "# get a new instance of Generator\n",
    "rng = np.random.default_rng()\n",
    "\n",
    "# Generating a random float\n",
    "a = rng.random() #size indicates number of random floats returned\n",
    "print(a)"
   ]
  },
  {
   "cell_type": "markdown",
   "id": "9041960c-1314-461f-9c24-ffcf328f07f6",
   "metadata": {},
   "source": [
    "<br>\n",
    "Let's say I have a container of timber and want to know their length (in meter) when I randomly pick 10 of them. "
   ]
  },
  {
   "cell_type": "code",
   "execution_count": 4,
   "id": "6a62eec3-5c0b-4310-adc7-77da14978a28",
   "metadata": {},
   "outputs": [
    {
     "name": "stdout",
     "output_type": "stream",
     "text": [
      "[0.82964873 0.42521786 0.44679603 0.06171101 0.53719586 0.27839866\n",
      " 0.95449311 0.38548756 0.99804038 0.3726403 ]\n"
     ]
    }
   ],
   "source": [
    "timber = rng.random(size=10)\n",
    "print(timber)"
   ]
  },
  {
   "cell_type": "markdown",
   "id": "d3f3b539-b628-4407-a242-dc9f92e01bd3",
   "metadata": {},
   "source": [
    "<br>\n",
    "10 timbers is a relatively small sample to a container of it. Let's measure 10 groups of 10 samples."
   ]
  },
  {
   "cell_type": "code",
   "execution_count": 6,
   "id": "f115dbef-16ad-42dc-970c-4b97a664e1ef",
   "metadata": {},
   "outputs": [
    {
     "name": "stdout",
     "output_type": "stream",
     "text": [
      "[[0.59175463 0.64811744 0.7507727  0.18762927 0.171921   0.78104893\n",
      "  0.05086289 0.309611   0.1064249  0.09378693]\n",
      " [0.31404868 0.42404069 0.20780387 0.47983498 0.27261064 0.73608752\n",
      "  0.97409406 0.89504453 0.08696903 0.88462508]\n",
      " [0.64828027 0.040421   0.33621477 0.26294315 0.81419075 0.90960617\n",
      "  0.52556904 0.25043382 0.06055504 0.36491336]\n",
      " [0.49843824 0.56749666 0.65293752 0.77878234 0.3604512  0.84994343\n",
      "  0.5791737  0.55284159 0.64607053 0.86775258]\n",
      " [0.06260046 0.9346425  0.76552466 0.49273386 0.88147557 0.67314508\n",
      "  0.26000113 0.54846997 0.59583484 0.51268357]\n",
      " [0.88336095 0.18343379 0.2932328  0.3594447  0.79877714 0.69486403\n",
      "  0.24128816 0.41769808 0.72368368 0.10010058]\n",
      " [0.70183914 0.97511632 0.28367516 0.63353124 0.25345671 0.10416264\n",
      "  0.70540535 0.11500425 0.41384825 0.06506479]\n",
      " [0.84737839 0.37197529 0.96059174 0.35607454 0.52897049 0.79663779\n",
      "  0.48120631 0.23917214 0.9777667  0.10476305]\n",
      " [0.31221447 0.57460832 0.28096335 0.00716037 0.37553811 0.96780891\n",
      "  0.53170699 0.03441555 0.11280531 0.14870076]\n",
      " [0.771312   0.74418354 0.33705865 0.15698633 0.74736745 0.93195716\n",
      "  0.37391954 0.72301737 0.20937905 0.94375554]]\n"
     ]
    }
   ],
   "source": [
    "# generate a 10-row x 10-element array of floats\n",
    "group_timber=rng.random((10,10))\n",
    "print(group_timber)"
   ]
  },
  {
   "cell_type": "code",
   "execution_count": 7,
   "id": "120f6f4b-0cbf-4399-91ee-c1a71864da0c",
   "metadata": {},
   "outputs": [
    {
     "data": {
      "text/plain": [
       "array([[-0.79882412, -0.55377947],\n",
       "       [-0.26294412, -0.54307385]])"
      ]
     },
     "execution_count": 7,
     "metadata": {},
     "output_type": "execute_result"
    }
   ],
   "source": [
    "# obviously, timber length can't be a negative floating point number, \n",
    "# but just to show numpy random is able to generate that.\n",
    "\n",
    "# to generate a 2x2 array of negative float between -1 to 0 (exclusive)\n",
    "1*rng.random((2,2))-1"
   ]
  },
  {
   "cell_type": "markdown",
   "id": "2889d216-fca0-4d3f-aa5d-233ebc04d54a",
   "metadata": {},
   "source": [
    "<br>"
   ]
  },
  {
   "cell_type": "markdown",
   "id": "97b09682-6e92-4bac-9f75-1c61d9102da8",
   "metadata": {},
   "source": [
    "#### Generate random integer\n",
    "It allows user to specify lower and upper bound of the integer, and the shape of output returned. Upper bound is default to be exclusive, unless specify endpoint as True. Lower bound, upper bound and size can be an integer or an array."
   ]
  },
  {
   "cell_type": "markdown",
   "id": "80ce117e-878d-4bd9-98fe-b2e6d45be300",
   "metadata": {},
   "source": [
    "Let's simulate rowing a die, and see what would be the outcome. The default is sampling from a discrete uniform distribution, which means each element in the range has equal probability to be picked. "
   ]
  },
  {
   "cell_type": "code",
   "execution_count": 8,
   "id": "e9a206ed-f459-4e07-9842-8b68d3d1d44d",
   "metadata": {},
   "outputs": [
    {
     "name": "stdout",
     "output_type": "stream",
     "text": [
      "6\n"
     ]
    }
   ],
   "source": [
    "# row 1 die\n",
    "die = rng.integers(1,7)\n",
    "\n",
    "# or we can use the endpoint parameter\n",
    "#die = rng.integers(1,6,endpoint=True)\n",
    "\n",
    "print(die)"
   ]
  },
  {
   "cell_type": "markdown",
   "id": "80f4d340-aed6-473c-9f1a-0bf8aec6a648",
   "metadata": {},
   "source": [
    "<br>\n",
    "Let's see what the results would be if we row the die 10 times"
   ]
  },
  {
   "cell_type": "code",
   "execution_count": 9,
   "id": "bdc3a199-a42a-4bad-ab90-5e2e163d68ff",
   "metadata": {},
   "outputs": [
    {
     "data": {
      "text/plain": [
       "array([1, 3, 5, 4, 1, 1, 5, 6, 1, 6], dtype=int64)"
      ]
     },
     "execution_count": 9,
     "metadata": {},
     "output_type": "execute_result"
    }
   ],
   "source": [
    "# generate 10 random integers\n",
    "\n",
    "rng.integers(low=1, high=6,size=10, endpoint=True)"
   ]
  },
  {
   "cell_type": "markdown",
   "id": "3a405ce3-c079-4588-bd59-75b900690276",
   "metadata": {},
   "source": [
    "<br>\n",
    "What about we repeat that 5 times?"
   ]
  },
  {
   "cell_type": "code",
   "execution_count": 11,
   "id": "170f8d9e-9aed-4f4f-a77f-c14ed8b286e3",
   "metadata": {},
   "outputs": [
    {
     "data": {
      "text/plain": [
       "array([[3, 2, 1, 3, 2, 5, 2, 2, 5, 2],\n",
       "       [1, 3, 4, 6, 5, 3, 1, 2, 4, 5],\n",
       "       [3, 3, 5, 5, 6, 4, 6, 4, 5, 5],\n",
       "       [6, 2, 2, 5, 3, 4, 4, 5, 1, 5],\n",
       "       [1, 5, 4, 1, 5, 6, 3, 5, 6, 4]], dtype=int64)"
      ]
     },
     "execution_count": 11,
     "metadata": {},
     "output_type": "execute_result"
    }
   ],
   "source": [
    "# generate a 5-row x 10-element array of integers\n",
    "rng.integers(low=1,high=6, size=[5,10], endpoint=True)"
   ]
  },
  {
   "cell_type": "markdown",
   "id": "a57209f0-90fa-4f6c-ba93-574c245e04e9",
   "metadata": {},
   "source": [
    "<br>\n",
    "Now a special die is introduced, in which faces are from 7 to 12. We throw both dice alternately 10 times, and see what the outcome would be. "
   ]
  },
  {
   "cell_type": "code",
   "execution_count": 12,
   "id": "d3a088b0-45e4-44cd-bccf-21657d6c0741",
   "metadata": {},
   "outputs": [
    {
     "data": {
      "text/plain": [
       "array([[ 2,  9],\n",
       "       [ 3,  9],\n",
       "       [ 6,  9],\n",
       "       [ 3, 12],\n",
       "       [ 4,  8],\n",
       "       [ 5,  7],\n",
       "       [ 6,  7],\n",
       "       [ 5,  8],\n",
       "       [ 3,  7],\n",
       "       [ 4,  7]], dtype=int64)"
      ]
     },
     "execution_count": 12,
     "metadata": {},
     "output_type": "execute_result"
    }
   ],
   "source": [
    "# generating a 10x2 array with lists of lower and upper bounds\n",
    "# with first element in all rows between 1 to 6, \n",
    "#　second elements between 7 to 12 (inclusive)\n",
    "\n",
    "rng.integers(low=[1,7],high=[6,12], size=(10,2), endpoint=True)"
   ]
  },
  {
   "cell_type": "markdown",
   "id": "bed60c56-6c9f-4fcb-91d0-24407eab9901",
   "metadata": {},
   "source": [
    "<br>"
   ]
  },
  {
   "cell_type": "markdown",
   "id": "0f6a9c81-28ae-4553-b8b4-3c8245016f26",
   "metadata": {},
   "source": [
    "#### Generate random sample from a given array\n",
    "The function **.choice()** generates random sample from a given array. It takes 6 parameters. The parameters are the given array or int, size of output, with or without replacement, set probability of each array or int, axis to permute, and option to shuffle the sample when sampling without replacement. It follows an uniform distribution if probability is not specified.\n",
    "<br>\n",
    "<br>\n",
    "Let's say we are simulating tossing a die 10 times and see the results"
   ]
  },
  {
   "cell_type": "code",
   "execution_count": 21,
   "id": "fdb376f7-6023-4a6d-b969-cc1ec11817e2",
   "metadata": {},
   "outputs": [
    {
     "name": "stdout",
     "output_type": "stream",
     "text": [
      "a fair die\n",
      "[2 4 5 4 3 3 1 1 1 5 2 5 5 6 1 5 5 3 3 1 3 4 4 6 1 1 3 2 4 6 1 5 3 5 4 6 4\n",
      " 3 1 3 1 5 4 3 1 4 3 1 1 1 3 3 3 3 5 3 1 6 1 5 6 5 1 6 3 1 1 2 1 1 3 3 2 3\n",
      " 6 5 6 5 5 5 1 2 4 6 1 6 1 6 2 5 6 2 1 5 6 3 3 5 1 3]\n"
     ]
    }
   ],
   "source": [
    "# .choice()\n",
    "die = np.arange(1,7) #a die with 6 faces\n",
    "\n",
    "# assume a fair die, with equal probability of each face\n",
    "a = rng.choice(a=die, size=100)\n",
    "print(\"a fair die\") \n",
    "print(a)"
   ]
  },
  {
   "cell_type": "markdown",
   "id": "88d41a58-97ee-48b9-b0e7-5f309f01010f",
   "metadata": {},
   "source": [
    "The above basically do the same as generating random integers, however .choice() can take in non-continuous range of number and take a random sample out of it as follows."
   ]
  },
  {
   "cell_type": "code",
   "execution_count": 20,
   "id": "4c4a1481-0345-4882-a393-6a338af781df",
   "metadata": {},
   "outputs": [
    {
     "name": "stdout",
     "output_type": "stream",
     "text": [
      "[17  8  2 27 17  8 27  2 12  8  5 12 27  5 23  5  2 27 17 23]\n"
     ]
    }
   ],
   "source": [
    "c = [2,5,8,12,17,23,27]\n",
    "c_random = rng.choice(a=c, size=20)\n",
    "print(c_random)"
   ]
  },
  {
   "cell_type": "markdown",
   "id": "86599639-422b-4c74-8627-5e0ef37a4350",
   "metadata": {},
   "source": [
    "<br>\n",
    "Now the die is no longer fair, but with a given list of probability."
   ]
  },
  {
   "cell_type": "code",
   "execution_count": 22,
   "id": "3745f208-6879-4569-be42-b1e5a2357ca3",
   "metadata": {},
   "outputs": [
    {
     "name": "stdout",
     "output_type": "stream",
     "text": [
      "an unfair die\n",
      "[1 1 1 1 1 1 1 1 2 2 4 6 2 3 2 6 3 1 1 2 3 2 1 1 5 5 4 2 1 3 3 2 2 1 2 3 2\n",
      " 1 6 2 1 1 6 3 3 2 2 2 1 4 2 1 1 5 2 1 3 2 1 1 2 4 1 2 3 2 1 2 1 1 2 1 1 1\n",
      " 1 1 1 2 2 2 3 3 2 3 5 5 2 1 3 1 1 1 2 1 1 5 1 2 2 1]\n"
     ]
    }
   ],
   "source": [
    "# amended probability\n",
    "prob=[0.38, 0.28, 0.18, 0.08, 0.05, 0.03]\n",
    "\n",
    "b = rng.choice(a=die, p=prob, size=100)\n",
    "print(\"an unfair die\")\n",
    "print(b) # we will see a lot of 1 and 2"
   ]
  },
  {
   "cell_type": "markdown",
   "id": "8c624fee",
   "metadata": {},
   "source": [
    "The mean and median of fair die toss and unfair die toss would be quite different. While the mean and median of fair die toss would be around 3 to 4, the unfair one would be closer to 2 as the proabability was adjusted. "
   ]
  },
  {
   "cell_type": "code",
   "execution_count": 24,
   "id": "cc1f8eef",
   "metadata": {},
   "outputs": [
    {
     "name": "stdout",
     "output_type": "stream",
     "text": [
      "Mean of 100 fair die toss is  3.3\n",
      "Median of 100 fair die toss is  3.0\n",
      "\n",
      "Mean of 100 unfair die toss is  2.15\n",
      "Median of 100 unfair die toss is  2.0\n"
     ]
    }
   ],
   "source": [
    "print(f\"Mean of 100 fair die toss is \", a.mean())\n",
    "print(f\"Median of 100 fair die toss is \", np.median(a))\n",
    "print(\"\")\n",
    "print(f\"Mean of 100 unfair die toss is \", b.mean())\n",
    "print(f\"Median of 100 unfair die toss is \", np.median(b))"
   ]
  },
  {
   "cell_type": "markdown",
   "id": "8ee94543-1449-4f27-a917-8d91462b909b",
   "metadata": {},
   "source": [
    "<br>\n",
    "Demostrates **replacement parameter** by simulating drawing card from a deck of 10 cards"
   ]
  },
  {
   "cell_type": "code",
   "execution_count": 25,
   "id": "7d2850d7-f27f-4a5c-9fdd-123ed1f190a1",
   "metadata": {},
   "outputs": [
    {
     "name": "stdout",
     "output_type": "stream",
     "text": [
      "The 10 cards drawn (without replacement) are: [ 2 10  9  6  8  7  3  5  4  1]\n",
      "\n",
      "The 10 cards drawn (with replacement) are: [ 2  8  9 10  8 10  9  9  5  6]\n",
      "\n",
      "The results of 10 trials of drawing 3 cards from a deck of 10 are: \n",
      " [[ 4  1  5]\n",
      " [ 6  3  8]\n",
      " [ 5 10  7]\n",
      " [ 2  2  9]\n",
      " [ 5  5  8]\n",
      " [ 1  3  1]\n",
      " [ 3  6 10]\n",
      " [ 9  9 10]\n",
      " [ 5  4  1]\n",
      " [ 3  2  9]]\n"
     ]
    }
   ],
   "source": [
    "# create a deck of 10 cards\n",
    "card = np.arange(1,11) \n",
    "\n",
    "#draw 10 cards out of 10, without replacement\n",
    "no_replace = rng.choice(a=card,size=10,replace=False)\n",
    "print(f\"The 10 cards drawn (without replacement) are:\", no_replace)\n",
    "print(\"\")\n",
    "\n",
    "#draw 10 cards out of 10, with replacement\n",
    "replace = rng.choice(a=card,size=10,replace=True)\n",
    "print(f\"The 10 cards drawn (with replacement) are:\", replace)\n",
    "print(\"\")\n",
    "\n",
    "# draw 3 cards out of 10, repeat 10 times with replacement\n",
    "draw10times= rng.choice(a=card,size=(10,3))\n",
    "print(f\"The results of 10 trials of drawing 3 cards from a deck of 10 are: \\n\", draw10times)"
   ]
  },
  {
   "cell_type": "markdown",
   "id": "82b083ce-a699-481a-8d3e-24f2ccdd39c1",
   "metadata": {},
   "source": [
    "<br>"
   ]
  },
  {
   "cell_type": "markdown",
   "id": "48e106df-0220-4e15-9b4d-1bbbbad72303",
   "metadata": {},
   "source": [
    "**Generate random bytes**"
   ]
  },
  {
   "cell_type": "code",
   "execution_count": 26,
   "id": "70febda2-d4d9-4f7a-b7b5-c1e47084e7fc",
   "metadata": {},
   "outputs": [
    {
     "name": "stdout",
     "output_type": "stream",
     "text": [
      "b't\\xf7\\\\D\\xa0\\xc4\\x07' <class 'bytes'>\n"
     ]
    }
   ],
   "source": [
    " # return a string of random bytes with length of 7 \n",
    "a = rng.bytes(7)\n",
    "print (a, type(a)) # the bytes and is of type bytes\n"
   ]
  },
  {
   "cell_type": "markdown",
   "id": "6d15b7c5-4f0c-4336-a33f-1917f7d0c994",
   "metadata": {},
   "source": [
    "<br>\n",
    "<br>"
   ]
  },
  {
   "cell_type": "markdown",
   "id": "c3b3f030-fe9b-43dd-99ec-2612c21b6449",
   "metadata": {},
   "source": [
    "## Permutation\n",
    "***\n",
    "https://numpy.org/doc/1.21/reference/random/generator.html?highlight=numpy%20generator#permutations <br>\n",
    "There are 3 ways of randomly modifying or permuting a sequence or array, namely shuffle, permutation, permuted."
   ]
  },
  {
   "cell_type": "markdown",
   "id": "418753ca-463c-4a9c-8015-bbc9803a2ad2",
   "metadata": {},
   "source": [
    "#### Shuffle\n",
    "It takes 2 paramenters, the numpy array, and the axis to shuffle (default to 0 if not given). It shuffles the numpy array in place, meaning the numpy array itself is changed. If a 2D array is given, order of sub-arrays is changed, but contents in the sub-arrays remain the same, works on 1D and 2D arrays."
   ]
  },
  {
   "cell_type": "markdown",
   "id": "3b0cb816-fc4b-4e27-a15b-8fd38ba253aa",
   "metadata": {},
   "source": [
    "For example, there is a deck of 5 cards, numbered 1 to 5. I would like to shuffle them and see the sequence from top to bottom. "
   ]
  },
  {
   "cell_type": "code",
   "execution_count": 27,
   "id": "ce262e9c-b0a4-4a78-a4e4-1abc84ebbaf8",
   "metadata": {},
   "outputs": [
    {
     "name": "stdout",
     "output_type": "stream",
     "text": [
      "None\n",
      "[4 3 2 1 5]\n"
     ]
    }
   ],
   "source": [
    "# Shuffle, it returns a shuffled sequence of elements in the array\n",
    "arr = np.array([1, 2, 3, 4, 5])\n",
    "\n",
    "rng.shuffle(arr)\n",
    "print(rng.shuffle(arr)) \n",
    "print(arr)\n"
   ]
  },
  {
   "cell_type": "code",
   "execution_count": 28,
   "id": "fcc54956-0e20-443f-91ca-cf9a9ee9be90",
   "metadata": {},
   "outputs": [
    {
     "name": "stdout",
     "output_type": "stream",
     "text": [
      "None\n",
      "[[6 7 8 9]\n",
      " [4 5 6 7]\n",
      " [1 2 3 4]]\n"
     ]
    }
   ],
   "source": [
    "# shuffling 2d array\n",
    "arr2d = np.array([[1, 2, 3, 4],[4, 5, 6, 7],[6, 7, 8, 9]])\n",
    "\n",
    "rng.shuffle(arr2d)\n",
    "print(rng.shuffle(arr2d)) \n",
    "print(arr2d)"
   ]
  },
  {
   "cell_type": "markdown",
   "id": "f1a9e04e",
   "metadata": {},
   "source": [
    "The sequence of sub-arrays is changed, but the sequence of elements within the sub-arrays is not. \n",
    "<br>\n",
    "<br>"
   ]
  },
  {
   "cell_type": "code",
   "execution_count": 30,
   "id": "78e34949-73e2-4c06-b885-477c5d750e74",
   "metadata": {},
   "outputs": [
    {
     "name": "stdout",
     "output_type": "stream",
     "text": [
      "[[4 3 1 2]\n",
      " [7 6 4 5]\n",
      " [9 8 6 7]]\n"
     ]
    }
   ],
   "source": [
    "arr2d = np.array([[1, 2, 3, 4],[4, 5, 6, 7],[6, 7, 8, 9]])\n",
    "\n",
    "# what happen if axis is changed to 1\n",
    "np.random.default_rng().shuffle(arr2d, axis=1) \n",
    "\n",
    "print(arr2d)"
   ]
  },
  {
   "cell_type": "markdown",
   "id": "12200923",
   "metadata": {},
   "source": [
    "The elements in the sub-arrays are shuffled the same way, because they are on the same axis. The sequence of the sub-arrays is unchanged."
   ]
  },
  {
   "cell_type": "markdown",
   "id": "dac73daf-a871-4c69-b38d-bf1dccadd41c",
   "metadata": {},
   "source": [
    "<br>"
   ]
  },
  {
   "cell_type": "markdown",
   "id": "bbe3ddcc-faac-451b-9830-639c0f52036c",
   "metadata": {},
   "source": [
    "#### Permutation\n",
    "It returns a copy with randomly shuffled elements or sub-arrays, meaning the numpy array itself is not changed. It takes 2 paramenters, the numpy array, and the axis to shuffle (default to 0 if not given). "
   ]
  },
  {
   "cell_type": "code",
   "execution_count": 31,
   "id": "5114de8c-231c-4f00-a2ea-8f2fb4bd3964",
   "metadata": {},
   "outputs": [
    {
     "name": "stdout",
     "output_type": "stream",
     "text": [
      "[5 4 2 3 1]\n",
      "[1 2 3 4 5]\n"
     ]
    }
   ],
   "source": [
    "# Permutation\n",
    "arr = np.array([1, 2, 3, 4, 5])\n",
    "rng.permutation(arr)\n",
    "\n",
    "print(rng.permutation(arr))\n",
    "# a copy of permuted arr is returned\n",
    "\n",
    "print(arr)\n",
    "# arr remains unchanged, \n",
    "# the sequence of elements in the array is changed only when called"
   ]
  },
  {
   "cell_type": "code",
   "execution_count": 33,
   "id": "0a3b7b50-5cb1-4b01-8433-3b14be9f494c",
   "metadata": {},
   "outputs": [
    {
     "name": "stdout",
     "output_type": "stream",
     "text": [
      "[[6 7 8 9]\n",
      " [1 2 3 4]\n",
      " [4 5 6 7]]\n"
     ]
    }
   ],
   "source": [
    "# It also supports 2D array\n",
    "arr2d = np.array([[1, 2, 3, 4],[4, 5, 6, 7],[6, 7, 8, 9]])\n",
    "\n",
    "# permutation of 2d array\n",
    "rng.permutation(arr2d)\n",
    "print(rng.permutation(arr2d))"
   ]
  },
  {
   "cell_type": "markdown",
   "id": "eaea8728-d209-4cac-824f-c9956a5d5c8e",
   "metadata": {},
   "source": [
    "The sequence of sub-arrays is changed, but the sequence of elements within the sub-arrays is not. \n",
    "<br>"
   ]
  },
  {
   "cell_type": "code",
   "execution_count": 34,
   "id": "6083391e-df58-44cc-8e2d-15fab63c69d5",
   "metadata": {},
   "outputs": [
    {
     "name": "stdout",
     "output_type": "stream",
     "text": [
      "Permutation array\n",
      "[[1 2 4 3]\n",
      " [4 5 7 6]\n",
      " [6 7 9 8]]\n",
      "\n",
      "Original array unchanged\n",
      "[[1 2 3 4]\n",
      " [4 5 6 7]\n",
      " [6 7 8 9]]\n"
     ]
    }
   ],
   "source": [
    "# what happen if axis is changed to 1\n",
    "print(\"Permutation array\")\n",
    "print(rng.permutation(arr2d, axis=1))\n",
    "\n",
    "# Elements within the sub-arrays are shuffled the same way as they are on the same axis,\n",
    "# the sequence of the sub-arrays remains unchanged\n",
    "print(\"\")\n",
    "\n",
    "print(\"Original array unchanged\")\n",
    "print(arr2d)\n",
    "# arr2d remains unchanged"
   ]
  },
  {
   "cell_type": "markdown",
   "id": "ec65f7b5-bb13-4d74-8ac7-985fe4d62835",
   "metadata": {},
   "source": [
    "<br>"
   ]
  },
  {
   "cell_type": "markdown",
   "id": "283faf93-04b9-414b-8495-677ad7175422",
   "metadata": {},
   "source": [
    "#### Permuted\n",
    "It takes 3 parameters, the numpy array, the axis to shuffle (default to 0 if not given), and \"out\" which specify the destination of the shuffled array. If out is given, shuffled array is returned there; if out is none, a shuffled copy is returned. <br>\n",
    "It is a new method of permutation in NumPy version 1.21.0."
   ]
  },
  {
   "cell_type": "code",
   "execution_count": 37,
   "id": "ba0e882b-5da6-4e01-81fd-e91eb6390c71",
   "metadata": {},
   "outputs": [
    {
     "name": "stdout",
     "output_type": "stream",
     "text": [
      "Permuted array: \n",
      "[2 5 4 1 3]\n",
      "Original array: \n",
      "[1 2 3 4 5]\n"
     ]
    }
   ],
   "source": [
    "# Permutated\n",
    "arr=np.array([1,2,3,4,5])\n",
    "\n",
    "print(\"Permuted array: \")\n",
    "print(rng.permuted(arr))\n",
    "# a copy with the shuffled elements in the array is returned\n",
    "\n",
    "print(\"Original array: \")\n",
    "print(arr)\n",
    "# arr remains unchanged"
   ]
  },
  {
   "cell_type": "code",
   "execution_count": 38,
   "id": "08307ad0-5f51-4ac9-9c7b-be9deecdb1d1",
   "metadata": {},
   "outputs": [
    {
     "name": "stdout",
     "output_type": "stream",
     "text": [
      "Permuted array with axis = 1:\n",
      "[[2 4 1 3]\n",
      " [4 5 6 7]\n",
      " [8 9 6 7]]\n",
      "\n",
      "Permuted array with axis = 0:\n",
      "[[2 9 7 7]\n",
      " [1 4 3 4]\n",
      " [6 8 6 5]]\n",
      "\n",
      "Original array: \n",
      "[[1 2 3 4]\n",
      " [4 5 6 7]\n",
      " [6 7 8 9]]\n"
     ]
    }
   ],
   "source": [
    "# It supports 2d array too\n",
    "arr2d = np.array([[1, 2, 3, 4],[4, 5, 6, 7],[6, 7, 8, 9]])\n",
    "\n",
    "print(\"Permuted array with axis = 1:\")\n",
    "print(rng.permuted(arr2d, axis=1))\n",
    "# the sequence of sub-arrays remains unchanged, \n",
    "# but the elements within the arrays are randomly shuffled \n",
    "# each element is independent of elements on the same axis in other arrays, unlike .shuffle()\n",
    "\n",
    "# if axis is set to 0 or not given\n",
    "print(\"\")\n",
    "print(\"Permuted array with axis = 0:\")\n",
    "print(rng.permuted(arr2d))\n",
    "# the 2d array is flattened, all elements are shuffled\n",
    "# returns a 2d array in the same shape as arr2d\n",
    "\n",
    "print(\"\")\n",
    "print(\"Original array: \")\n",
    "print(arr2d) # arr2d is not changed\n"
   ]
  },
  {
   "cell_type": "markdown",
   "id": "88c32c7f-7874-4bd1-925d-77f6c86a5853",
   "metadata": {},
   "source": [
    "**out parameter in permuted function**"
   ]
  },
  {
   "cell_type": "code",
   "execution_count": 39,
   "id": "a6a468eb-c808-496f-95c3-d7932cb02d7f",
   "metadata": {},
   "outputs": [
    {
     "name": "stdout",
     "output_type": "stream",
     "text": [
      "Array y:\n",
      " [[1 2 3 4]\n",
      " [6 5 4 7]\n",
      " [9 6 8 7]]\n",
      "\n",
      "Array arr2d:\n",
      " [[1 2 3 4]\n",
      " [6 5 4 7]\n",
      " [9 6 8 7]]\n",
      "\n",
      "Is the array y the same as arry2d:\n"
     ]
    },
    {
     "data": {
      "text/plain": [
       "array([[ True,  True,  True,  True],\n",
       "       [ True,  True,  True,  True],\n",
       "       [ True,  True,  True,  True]])"
      ]
     },
     "execution_count": 39,
     "metadata": {},
     "output_type": "execute_result"
    }
   ],
   "source": [
    "# out parameter\n",
    "arr2d = np.array([[1, 2, 3, 4],[4, 5, 6, 7],[6, 7, 8, 9]])\n",
    "#shuffled sub-arrays will go to arr2d\n",
    "y = rng.permuted(arr2d, out = arr2d, axis=1) \n",
    "\n",
    "print(f\"Array y:\\n\", y) \n",
    "print(\"\")\n",
    "print(f\"Array arr2d:\\n\", arr2d) # arr2d is changed, as out is set to arr2d\n",
    "# and now y is same as arr2d\n",
    "print(\"\")\n",
    "print(\"Is the array y the same as arry2d:\")\n",
    "y == arr2d"
   ]
  },
  {
   "cell_type": "markdown",
   "id": "48483a6a-d330-4341-b15f-b782c7e0096e",
   "metadata": {},
   "source": [
    "<br>\n",
    "<br>"
   ]
  },
  {
   "cell_type": "markdown",
   "id": "99d31387-0f1d-483e-9e35-be1d70311006",
   "metadata": {},
   "source": [
    "## 5 interesting distributions for sampling \n",
    "***"
   ]
  },
  {
   "cell_type": "markdown",
   "id": "abd934d4-8aa1-48d1-9ffd-af0e6d8d6878",
   "metadata": {},
   "source": [
    "numpy.random package has also built-in a variety of distributions for random sampling for different use cases. The followings are explanation and visualization of some the the distributions. "
   ]
  },
  {
   "cell_type": "markdown",
   "id": "aedb192e-964c-4719-b015-1a0e7a0776c0",
   "metadata": {},
   "source": [
    "### Binomial Distribution\n",
    " <br>\n",
    "The binomial distribution is frequently used to **model the number of successes in a sample of size n** drawn with replacement from a population of size N [2].\n",
    "\n",
    "The binomial distribution with parameters n and p represents the **discrete probability distribution** of the number of successes in a sequence of n independent experiments, each asking a yes–no question, and each with its own Boolean-valued outcome: success (with probability p) or failure (with probability q = 1 − p). For example the probability of getting a head, when tossing a coin 100 times. "
   ]
  },
  {
   "cell_type": "markdown",
   "id": "fc8b57bc-af44-4015-9760-5bd0832408bf",
   "metadata": {},
   "source": [
    "The main difference from a normal distribution is that **normal distribution is continous whereas binomial is discrete**. But if the trial number n is large  enough, binomial distribution will be quite similar to normal distribution with certain mean and median.<br>\n"
   ]
  },
  {
   "cell_type": "code",
   "execution_count": 43,
   "id": "cd8bf9ce",
   "metadata": {},
   "outputs": [
    {
     "data": {
      "image/png": "[encoded data removed]",
      "text/plain": [
       "<Figure size 360x360 with 1 Axes>"
      ]
     },
     "metadata": {
      "needs_background": "light"
     },
     "output_type": "display_data"
    }
   ],
   "source": [
    "# Tossing a coin 10 times and eqaul probability of each side\n",
    "rng = np.random.default_rng()\n",
    "n, p = 10, .5 \n",
    "\n",
    "# 10 trials of tossing a coin 10 times\n",
    "trials = rng.binomial(n,p,10)\n",
    "\n",
    "# plot a histogram\n",
    "plt.rcParams[\"figure.figsize\"] = (5,5)\n",
    "plt.hist(trials, bins=10)\n",
    "plt.title(\"Distribution of getting a tail when tossing a coin 10 times\")\n",
    "plt.xlabel(\"Times of tail when flipping a coin 10 times\")\n",
    "plt.ylabel(\"Frequency\")\n",
    "plt.xlim(0,n)\n",
    "plt.show()"
   ]
  },
  {
   "cell_type": "markdown",
   "id": "9e957315",
   "metadata": {},
   "source": [
    "<br>\n",
    "How would the plot look like if we increase number of trials?"
   ]
  },
  {
   "cell_type": "code",
   "execution_count": 45,
   "id": "81a14634-31f3-4946-a081-cd427e8402b3",
   "metadata": {},
   "outputs": [
    {
     "data": {
      "image/png": "[encoded data removed]",
      "text/plain": [
       "<Figure size 360x720 with 3 Axes>"
      ]
     },
     "metadata": {},
     "output_type": "display_data"
    }
   ],
   "source": [
    "# binomial distribution of different sample sizes\n",
    "# repeating the trials different number of times \n",
    "\n",
    "plt.rcParams[\"figure.figsize\"] = (5,10)\n",
    "plt.style.use(\"ggplot\")\n",
    "fig,axs = plt.subplots(3,1, sharex=True)\n",
    "\n",
    "plt.suptitle(\"Binomial Distribution of different number of trials\")\n",
    "axs[0].hist(rng.binomial(n,p,100), label=\"100 trials\")\n",
    "axs[1].hist(rng.binomial(n,p,1000), label=\"1000 trials\")\n",
    "axs[2].hist(rng.binomial(n,p,10000), label=\"10000 trials\")\n",
    "\n",
    "axs[0].legend()\n",
    "axs[1].legend()\n",
    "axs[2].legend()\n",
    "axs[0].set_ylabel(\"Frequency\")\n",
    "axs[1].set_ylabel(\"Frequency\")\n",
    "axs[2].set_ylabel(\"Frequency\")\n",
    "plt.xlabel(\"Times of tail when flipping a coin 10 times\")\n",
    "plt.tight_layout()\n",
    "plt.show()"
   ]
  },
  {
   "cell_type": "markdown",
   "id": "e3b3b68a",
   "metadata": {},
   "source": [
    "As sample size grows, it tends to look more like a normal distribution. "
   ]
  },
  {
   "cell_type": "markdown",
   "id": "c71fd293",
   "metadata": {},
   "source": [
    "<br>\n",
    "<br>"
   ]
  },
  {
   "cell_type": "markdown",
   "id": "f76a6589-31fd-481e-ac5e-f9cd99689942",
   "metadata": {},
   "source": [
    "### Normal Distribution\n",
    "https://en.wikipedia.org/wiki/Normal_distribution <br>\n",
    "Normal distribution is well-known of its bell-shaped curve. It can apply in many events, for example height of a given group, test scores, blood pressure etc. It takes 3 parameters namely means, standard deviation and size which would define the shape of the plots. <br>\n"
   ]
  },
  {
   "cell_type": "markdown",
   "id": "c6ac98e5-5ca9-451d-a8b5-c03250c231b1",
   "metadata": {},
   "source": [
    "For example, distribution of height of student in school A with mean=150cm, standarda deviation=5cm, sample size=500."
   ]
  },
  {
   "cell_type": "code",
   "execution_count": 51,
   "id": "3e3184fe-4540-4c0c-9e59-ac48e699c506",
   "metadata": {},
   "outputs": [
    {
     "data": {
      "image/png": "[encoded data removed]",
      "text/plain": [
       "<Figure size 360x360 with 1 Axes>"
      ]
     },
     "metadata": {},
     "output_type": "display_data"
    }
   ],
   "source": [
    "plt.rcParams[\"figure.figsize\"] = (5,5)\n",
    "norA= rng.normal(150, 5, 500)\n",
    "plt.hist(norA,bins=10)\n",
    "plt.ylabel(\"Frequency\")\n",
    "plt.xlabel(\"Height in cm\")\n",
    "plt.title(\"Distrubution of height of school A\")\n",
    "\n",
    "plt.show()"
   ]
  },
  {
   "cell_type": "markdown",
   "id": "b0c97e5d-f61d-49c6-a70e-14a7947ec45c",
   "metadata": {},
   "source": [
    "Here we have another distribution of height of School B with mean=160cm, standard deviation=10, sample size=500."
   ]
  },
  {
   "cell_type": "code",
   "execution_count": 52,
   "id": "33939b88-7db6-4bf1-a3d5-5259729627c3",
   "metadata": {},
   "outputs": [
    {
     "data": {
      "image/png": "[encoded data removed]",
      "text/plain": [
       "<Figure size 360x360 with 1 Axes>"
      ]
     },
     "metadata": {},
     "output_type": "display_data"
    }
   ],
   "source": [
    "# normal distribution of school B\n",
    "plt.rcParams[\"figure.figsize\"] = (5,5)\n",
    "norB=rng.normal(160, 10, 500)\n",
    "plt.hist(norA,bins=10)\n",
    "plt.ylabel(\"Frequency\")\n",
    "plt.xlabel(\"Height in cm\")\n",
    "plt.title(\"Distrubution of height of school B\")\n",
    "\n",
    "plt.show()"
   ]
  },
  {
   "cell_type": "markdown",
   "id": "97e03bfb-edb4-459f-849a-70f591e41c3f",
   "metadata": {},
   "source": [
    "At a glance, the distribution of school A and school B look more or less the same. <br>\n",
    "Let see them on a seaborn displot. <br>\n",
    "The bell shape is shown by a distplot as well."
   ]
  },
  {
   "cell_type": "code",
   "execution_count": 53,
   "id": "9cab928e-baa0-4fe0-bcee-3fc4930713a7",
   "metadata": {},
   "outputs": [
    {
     "data": {
      "text/plain": [
       "Text(0.5, 6.79999999999999, 'Height in cm')"
      ]
     },
     "execution_count": 53,
     "metadata": {},
     "output_type": "execute_result"
    },
    {
     "data": {
      "image/png": "[encoded data removed]",
      "text/plain": [
       "<Figure size 360x360 with 1 Axes>"
      ]
     },
     "metadata": {},
     "output_type": "display_data"
    }
   ],
   "source": [
    "school_list= [norA, norB]\n",
    "\n",
    "sns.displot(data=school_list, kind=\"kde\", legend=False)\n",
    "plt.title(\"Distribution of height of school A and B\")\n",
    "plt.legend(labels=[\"School A\", \"School B\"])\n",
    "plt.xlabel(\"Height in cm\")\n"
   ]
  },
  {
   "cell_type": "markdown",
   "id": "c358c0ba",
   "metadata": {},
   "source": [
    "The distribution of School A with a smaller standard deviation has a taller bell shape and sharper peak, while school B with a taller mean height is shifted to the right and larger standard deviation makes it realatively flatter. "
   ]
  },
  {
   "cell_type": "markdown",
   "id": "4be678e4-7070-46fd-ac43-74062c142db5",
   "metadata": {},
   "source": [
    "<br>\n",
    "<br>"
   ]
  },
  {
   "cell_type": "markdown",
   "id": "3424aea6-1ca9-4d59-a914-8ec81965fab2",
   "metadata": {},
   "source": [
    "### Poisson Distribution\n",
    "Poisson Distribution is a Discrete Distribution. It estimates how many times an event can happen in a specified time. e.g. Estimating \"how many customer would I get today, when the average rate is 10/day.\"\n",
    "\n",
    "It has two parameters: lam is the known rate of occurences, and size. "
   ]
  },
  {
   "cell_type": "code",
   "execution_count": 58,
   "id": "97b254c7-a4a7-4999-a6b6-4ffc2adf0871",
   "metadata": {},
   "outputs": [
    {
     "data": {
      "text/plain": [
       "Text(0.5, 6.79999999999999, 'Number of customers')"
      ]
     },
     "execution_count": 58,
     "metadata": {},
     "output_type": "execute_result"
    },
    {
     "data": {
      "image/png": "[encoded data removed]",
      "text/plain": [
       "<Figure size 360x360 with 1 Axes>"
      ]
     },
     "metadata": {},
     "output_type": "display_data"
    }
   ],
   "source": [
    "# average of 10 customers a day\n",
    "px = rng.poisson(lam=10, size=100)\n",
    "sns.displot(px, kind=\"hist\",bins=10)\n",
    "plt.title(\"Probability of number of customer I get today\")\n",
    "plt.xlabel(\"Number of customers\")"
   ]
  },
  {
   "cell_type": "markdown",
   "id": "18ab29c4-2920-44fc-a721-4c19fb0e0f19",
   "metadata": {},
   "source": [
    "<br>\n",
    "If I have a different avearage number of customer, how would the plot look like?"
   ]
  },
  {
   "cell_type": "code",
   "execution_count": 59,
   "id": "a313f6e4-31c2-47fd-bfd3-82be240eb014",
   "metadata": {},
   "outputs": [],
   "source": [
    "# different avearge number of customer\n",
    "poisson1 = rng.poisson(lam=2,size=1000)\n",
    "poisson2 = rng.poisson(lam=5,size=1000)\n",
    "poisson3 = rng.poisson(lam=7,size=1000)\n"
   ]
  },
  {
   "cell_type": "code",
   "execution_count": 70,
   "id": "3526a152-0271-4da6-89a3-3b862ef17d5f",
   "metadata": {},
   "outputs": [
    {
     "data": {
      "image/png": "[encoded data removed]",
      "text/plain": [
       "<Figure size 1080x432 with 3 Axes>"
      ]
     },
     "metadata": {},
     "output_type": "display_data"
    }
   ],
   "source": [
    "plt.rcParams[\"figure.figsize\"] = (15,6)\n",
    "plt.style.use(\"ggplot\")\n",
    "fig,axs = plt.subplots(1,3,sharey=True)\n",
    "plt.suptitle(\"Probability of number of customer I get today with different average rate\")\n",
    "axs[0].hist(poisson1, bins=12, label=\"rate=2\")\n",
    "axs[1].hist(poisson2, bins=12, label=\"rate=5\")\n",
    "axs[2].hist(poisson3, bins=12, label=\"rate=7\")\n",
    "\n",
    "axs[0].set_xlabel(\"number of customers\")\n",
    "axs[1].set_xlabel(\"number of customers\")\n",
    "axs[2].set_xlabel(\"number of customers\")\n",
    "axs[0].set_ylabel(\"Frequency\")\n",
    "axs[0].legend()\n",
    "axs[1].legend()\n",
    "axs[2].legend()\n",
    "\n",
    "plt.tight_layout()\n",
    "plt.show()"
   ]
  },
  {
   "cell_type": "markdown",
   "id": "a8b3fa4a-71ca-49c9-867a-c87517064515",
   "metadata": {},
   "source": [
    "<br>"
   ]
  },
  {
   "cell_type": "markdown",
   "id": "1859e321-6322-4b31-a2ca-50314a8110a2",
   "metadata": {},
   "source": [
    "### Exponential Distribution\n",
    "https://en.wikipedia.org/wiki/Exponential_distribution <br>\n",
    "\n",
    "It models the time betwen events, for example, how long would it takes until next visitor browsing the website, for example when there is an average of 2 visitors to the website hourly. It is an inverse of Poisson which models how many events happens within a given time. <br> \n",
    "It takes 2 parameters, scale which is inverse of rate (lambda), defaults to 1.0; and size is shape of returned array.\n",
    "E.G. given average visitor/hour =2; then scale will be 1/2 <br>\n"
   ]
  },
  {
   "cell_type": "markdown",
   "id": "10881534-c5d5-41de-9dc6-6925e25d62b3",
   "metadata": {},
   "source": [
    "Let's take the above example to plot an exponential distribution showing the probability of how long it takes for the next visitor to the website when repeating 1000 times.<br>\n",
    "x-axis is the amount of time between events, y-axis is scaled so that the total area under the curve equals 1.<br>"
   ]
  },
  {
   "cell_type": "code",
   "execution_count": 71,
   "id": "0e9e9303-fa28-49cf-9ff4-6123a3a743f0",
   "metadata": {},
   "outputs": [],
   "source": [
    "# we have an average visitor of 2/hour, that turns the scale to 1/2, \n",
    "# and trials of 1000 times\n",
    "expon = rng.exponential (scale=1/2, size=1000)"
   ]
  },
  {
   "cell_type": "code",
   "execution_count": 73,
   "id": "da46998f-7750-4113-ae05-4068768834e7",
   "metadata": {},
   "outputs": [
    {
     "data": {
      "text/plain": [
       "<matplotlib.legend.Legend at 0x1dfe59c3be0>"
      ]
     },
     "execution_count": 73,
     "metadata": {},
     "output_type": "execute_result"
    },
    {
     "data": {
      "image/png": "[encoded data removed]",
      "text/plain": [
       "<Figure size 360x360 with 1 Axes>"
      ]
     },
     "metadata": {},
     "output_type": "display_data"
    }
   ],
   "source": [
    "#plt.hist(expon)\n",
    "sns.displot(expon, kde=True, legend=False)\n",
    "plt.title(\"Time till next visitor to the website in Exponential distribution\")\n",
    "plt.xlabel(\"Hour\")\n",
    "plt.ylabel(\"Frequency\")\n",
    "plt.xlim(0,4.5)\n",
    "plt.legend(labels=[\"rate=2/hour\"])"
   ]
  },
  {
   "cell_type": "markdown",
   "id": "ef5e25a4-5b4f-405c-9787-a66e10a0e6b4",
   "metadata": {},
   "source": [
    "From the above plot, there is around 80 trials out of 1000 that the next visitor visits the website in half an hour, given the average rate of 2 visitor per hour. "
   ]
  },
  {
   "cell_type": "markdown",
   "id": "ddd98f66-f4e6-4b47-bf16-dc167ec822aa",
   "metadata": {},
   "source": [
    "What about the distribution of different average rate, how do they look like?\n",
    "Let's try average rates of 2, 5, 10 per hour. "
   ]
  },
  {
   "cell_type": "code",
   "execution_count": 74,
   "id": "53f0ef17-7e1d-4ba2-a09e-194ddb1c1416",
   "metadata": {},
   "outputs": [],
   "source": [
    "expon1 = rng.exponential (scale=1/2, size=100)\n",
    "expon2 = rng.exponential (scale=1/5, size=100)\n",
    "expon3 = rng.exponential (scale=1/10, size=100)"
   ]
  },
  {
   "cell_type": "code",
   "execution_count": 78,
   "id": "7eec2f74-fbc2-481c-ac6b-e7c863d0f215",
   "metadata": {
    "tags": []
   },
   "outputs": [
    {
     "data": {
      "image/png": "[encoded data removed]",
      "text/plain": [
       "<Figure size 360x360 with 1 Axes>"
      ]
     },
     "metadata": {},
     "output_type": "display_data"
    }
   ],
   "source": [
    "#plot\n",
    "expon_list = [expon1, expon2, expon3]\n",
    "sns.displot(expon_list, kind=\"kde\",legend=False)\n",
    "plt.title(\"Exponential distribution of different average rates\")\n",
    "plt.xlim(0, 2.5)\n",
    "plt.xlabel(\"Hour\")\n",
    "plt.legend(labels=[\"rate=10\",\"rate=5\", \"rate=2\"])\n",
    "plt.show()"
   ]
  },
  {
   "cell_type": "markdown",
   "id": "0ffd63d9",
   "metadata": {},
   "source": [
    "The plot shows that when the avearge rate is 10, it is very likely that the next visitor will visit the website in less than 20 minues. When the rate is 5, it is likely the next visitor will visit the website within 1 hour. When the rate is 2, it is likely the next visitor will visit the website within 2 hours. "
   ]
  },
  {
   "cell_type": "markdown",
   "id": "8b795588-29b3-48b6-b651-5e558c079cb6",
   "metadata": {},
   "source": [
    "<br>"
   ]
  },
  {
   "cell_type": "markdown",
   "id": "2b4f6045-f04c-481d-b458-98009ef01e00",
   "metadata": {},
   "source": [
    "### Uniform Distribution\n",
    "(https://en.wikipedia.org/wiki/Discrete_uniform_distribution) <br>\n",
    "Uniform distribution essentially means there are a known, finite number of outcomes, each has equal probability to happen. An example is throwing a fair dice, with 6 known, finite outcomes 1,2,3,4,5,6. Each time the die is thrown, the probability of a given outcome is 1/6.<br>\n",
    "It has 3 parameters, low = lower bound, high = upper bound, size=shape of returned array."
   ]
  },
  {
   "cell_type": "code",
   "execution_count": 82,
   "id": "e3259e4c-be42-417d-9269-a5ffafc45212",
   "metadata": {},
   "outputs": [],
   "source": [
    "# generate an array of 1000 samples between 1 to 6\n",
    "# based on uniform distribution\n",
    "\n",
    "s = rng.uniform(1,6,1000)\n",
    "#print (s)"
   ]
  },
  {
   "cell_type": "markdown",
   "id": "44e7241e-19f6-439b-a5ca-72e5fc248e39",
   "metadata": {},
   "source": [
    "Tossing a fair die 10 times, and see the distribution of outcome."
   ]
  },
  {
   "cell_type": "code",
   "execution_count": 110,
   "id": "883dbd57",
   "metadata": {},
   "outputs": [
    {
     "data": {
      "image/png": "[encoded data removed]",
      "text/plain": [
       "<Figure size 360x360 with 1 Axes>"
      ]
     },
     "metadata": {},
     "output_type": "display_data"
    }
   ],
   "source": [
    "# as random integers generate whole number based on uniform distribution, \n",
    "# so I will use this instead of .uniform() which generate floating point number\n",
    "die10=rng.integers(1,7,10)\n",
    "\n",
    "plt.rcParams[\"figure.figsize\"] = (5,5)\n",
    "bins=np.arange(8)-0.5 #try to position xtick in the middle of the bars\n",
    "plt.hist(die10, bins=bins)\n",
    "plt.title(\"Distribution of outcome when throwing a die 10 times\")\n",
    "plt.ylim([0,5])\n",
    "plt.xticks(np.arange(0, 7, step=1.0))\n",
    "plt.xlim([0, 7])\n",
    "plt.xlabel(\"face of die\")\n",
    "plt.ylabel(\"Count\")\n",
    "plt.show()"
   ]
  },
  {
   "cell_type": "code",
   "execution_count": 113,
   "id": "b65d8251-ff32-4839-b9f6-6cb599abd996",
   "metadata": {},
   "outputs": [
    {
     "data": {
      "image/png": "[encoded data removed]",
      "text/plain": [
       "<Figure size 360x720 with 3 Axes>"
      ]
     },
     "metadata": {},
     "output_type": "display_data"
    }
   ],
   "source": [
    "# multiple subplots of different sample size\n",
    "\n",
    "plt.rcParams[\"figure.figsize\"] = (5,10)\n",
    "fig, axs = plt.subplots(3,1)\n",
    "plt.suptitle(\"Uniform Distribution of different number of die throwing\")\n",
    "bins=np.arange(8)-0.5\n",
    "\n",
    "axs[0].hist(rng.integers(1,7,10), bins, label=\"10 times\")\n",
    "axs[1].hist(rng.integers(1,7,100),bins, label=\"100 times\")\n",
    "axs[2].hist(rng.integers(1,7,1000),bins, label=\"1000 times\")\n",
    "plt.xticks(np.arange(0, 7, step=1.0))\n",
    "plt.xlim([0, 7])\n",
    "axs[0].set_ylabel(\"Frequency\")\n",
    "axs[1].set_ylabel(\"Frequency\")\n",
    "axs[2].set_ylabel(\"Frequency\")\n",
    "plt.xlabel(\"face of die\")\n",
    "axs[0].legend()\n",
    "axs[1].legend()\n",
    "axs[2].legend()\n",
    "plt.tight_layout()\n",
    "plt.show()"
   ]
  },
  {
   "cell_type": "markdown",
   "id": "c190df0e-8ce5-4932-9cd6-cae0024d6a12",
   "metadata": {},
   "source": [
    "As the sample size grows, the distribution becomes more uniform."
   ]
  },
  {
   "cell_type": "markdown",
   "id": "da667722-7e61-46eb-9227-1c03c91aae5d",
   "metadata": {},
   "source": [
    "<br>\n",
    "<br>"
   ]
  },
  {
   "cell_type": "markdown",
   "id": "bf0038bf-379b-4614-b168-e0d01f1b6e11",
   "metadata": {
    "tags": []
   },
   "source": [
    "### Chi-square Distribution\n",
    "\n",
    "It is essentially the distribution of a sum of squared random variables from standard normal distribtuion. It models the distribution of variance of variables from normal distribution.  It is used to test goodness of fit as well. \n",
    "\n",
    "The chi-square distribution is widely used in **hypothesis testing** and contructing confidence interval[3]. Chi-square test is used for determining if 2 categorical variables (gender, age range, preference of ice-cream flavours etc.) are **significantly correlated** or determining **goodness of fit** by comparing expected frequenycy to actual frequency at a certain level of confidence (usually 95%). <br>\n",
    "\n",
    "It takes 2 parameters, degree of freedom (df), and size as shape of output.\n"
   ]
  },
  {
   "cell_type": "code",
   "execution_count": 77,
   "id": "54c0a421-07a9-4936-a4e1-7f57a313868f",
   "metadata": {},
   "outputs": [
    {
     "name": "stdout",
     "output_type": "stream",
     "text": [
      "[[1.23062133 0.25823074 3.83968493 1.84918252]\n",
      " [1.42200546 4.24259339 0.11231849 1.17960459]]\n"
     ]
    }
   ],
   "source": [
    "#generate an output array of 2-row with 4-element each\n",
    "x = rng.chisquare(df=2, size=[2,4]) \n",
    "print(x)"
   ]
  },
  {
   "cell_type": "markdown",
   "id": "1eac92ac-8b47-426e-8e50-32d577b4dad9",
   "metadata": {},
   "source": [
    "<br>\n",
    "<br>\n",
    "For example, I have 2 batches of battery and I want to know are they different in how long they last. If I random pick 10 samples from a normal distributed population, repeat 100 times.\n"
   ]
  },
  {
   "cell_type": "code",
   "execution_count": 84,
   "id": "d030fdde-69a1-4627-9e6f-e504c1f71973",
   "metadata": {},
   "outputs": [
    {
     "data": {
      "image/png": "[encoded data removed]",
      "text/plain": [
       "<Figure size 360x360 with 1 Axes>"
      ]
     },
     "metadata": {},
     "output_type": "display_data"
    }
   ],
   "source": [
    "x2=rng.chisquare(df=9,size=100)\n",
    "sns.displot(x2, kde=True)\n",
    "plt.title(\"Chi-square distiribution\")\n",
    "plt.xlabel(\"x\")\n",
    "plt.show()"
   ]
  },
  {
   "cell_type": "code",
   "execution_count": 140,
   "id": "94da02f5-a048-4685-acf9-ccdd653d6a47",
   "metadata": {},
   "outputs": [
    {
     "data": {
      "text/plain": [
       "<matplotlib.legend.Legend at 0x26dcf3ce730>"
      ]
     },
     "execution_count": 140,
     "metadata": {},
     "output_type": "execute_result"
    },
    {
     "data": {
      "image/png": "[encoded data removed]",
      "text/plain": [
       "<Figure size 360x360 with 1 Axes>"
      ]
     },
     "metadata": {},
     "output_type": "display_data"
    }
   ],
   "source": [
    "# If I pick different number of samples, the distribution curve would change. \n",
    "x1 = rng.chisquare(df=3,size=100) #3 samples\n",
    "x2 = rng.chisquare(df=7,size=100) #8 samples\n",
    "x3 = rng.chisquare(df=19,size=100) #20 samples\n",
    "x_list= [x1,x2,x3]\n",
    "\n",
    "sns.displot(x_list, kind=\"kde\", legend=False)\n",
    "plt.title(\"chi square distribution\")\n",
    "plt.xlim(0,44)\n",
    "plt.legend(labels=[\"df=19\",\"df=7\", \"df=3\"])"
   ]
  },
  {
   "cell_type": "markdown",
   "id": "53579377-7f9d-4838-b7bd-8a3e529d627a",
   "metadata": {},
   "source": [
    "The curve is flattening as df increases. "
   ]
  },
  {
   "cell_type": "markdown",
   "id": "79e4eea6-7507-42d3-aa32-08ed8044e328",
   "metadata": {},
   "source": [
    "<br>\n",
    "<br>"
   ]
  },
  {
   "cell_type": "markdown",
   "id": "95c3c5cf-2918-4115-bc76-c6e4b945c93f",
   "metadata": {},
   "source": [
    "## What is Seeding\n",
    "Seeding is to make sure same sets of psuedo random number is generated for easier replication of output. If you provide the same seed, you will get the same output. And if you change the seed, you will get a different output. The output generated depends on the input given.<br/>\n",
    "It is not absolutely necessary to seed, but it should be used if you want your code to produce repeatable outputs.<br>\n"
   ]
  },
  {
   "cell_type": "markdown",
   "id": "4f839f20",
   "metadata": {},
   "source": [
    "**How to Seed?**"
   ]
  },
  {
   "cell_type": "code",
   "execution_count": 116,
   "id": "3269fa62-20a6-4cf8-b8ef-0e7fb1868c3c",
   "metadata": {},
   "outputs": [
    {
     "name": "stdout",
     "output_type": "stream",
     "text": [
      "[0.26161213 0.29849114 0.81422574 0.09191594 0.60010053 0.72856053\n",
      " 0.18790107 0.05514663 0.27496937 0.65743301]\n",
      "[0.95600171 0.20768181 0.82844489 0.14928212 0.51280462 0.1359196\n",
      " 0.68903648 0.84174772 0.425509   0.956926  ]\n"
     ]
    }
   ],
   "source": [
    "seed = 2\n",
    "seed2 = 10\n",
    "\n",
    "rng=np.random.default_rng(seed=seed)\n",
    "# generate 10 random float numbers between 0 and 1\n",
    "print(rng.random(size = 10))\n",
    "\n",
    "rng2 = np.random.default_rng(seed=seed2)\n",
    "print(rng2.random(size=10))\n",
    "\n",
    "# different seeds different output"
   ]
  },
  {
   "cell_type": "code",
   "execution_count": 117,
   "id": "ba57695f-e485-478d-8472-9df10897ae92",
   "metadata": {},
   "outputs": [
    {
     "name": "stdout",
     "output_type": "stream",
     "text": [
      "[0.26161213 0.29849114 0.81422574 0.09191594 0.60010053 0.72856053\n",
      " 0.18790107 0.05514663 0.27496937 0.65743301]\n"
     ]
    }
   ],
   "source": [
    "rng=np.random.default_rng(seed=seed)\n",
    "print(rng.random(size = 10))\n",
    "# same seed same output "
   ]
  },
  {
   "cell_type": "markdown",
   "id": "d7e3fefd-dfc8-4548-b586-8de6bbc2aa34",
   "metadata": {},
   "source": [
    "<br>"
   ]
  },
  {
   "cell_type": "markdown",
   "id": "375b048c-a014-49e8-a102-b7a59145a57b",
   "metadata": {},
   "source": [
    "**Without seed** <br>\n",
    "Different output is generated every time."
   ]
  },
  {
   "cell_type": "code",
   "execution_count": 126,
   "id": "93e7a655-d263-4088-b206-6afd6714b9eb",
   "metadata": {},
   "outputs": [
    {
     "name": "stdout",
     "output_type": "stream",
     "text": [
      "Without seed, different output:\n",
      "[0.69383134 0.98674362 0.21567297 0.73355798 0.06361228 0.91925039\n",
      " 0.66619392 0.50554243 0.49411878 0.70003509]\n",
      "[0.6909662  0.91920659 0.59687824 0.20139242 0.97609252 0.03873372\n",
      " 0.73896955 0.11921482 0.39505782 0.02865275]\n",
      "[0.3965546  0.34333437 0.01820739 0.96060923 0.50420716 0.61581209\n",
      " 0.82004284 0.88894307 0.97450437 0.8102433 ]\n",
      "------------------------------\n",
      "\n",
      "using the same seed used above:\n",
      "[0.26161213 0.29849114 0.81422574 0.09191594 0.60010053]\n"
     ]
    }
   ],
   "source": [
    "rng=np.random.default_rng()\n",
    "print(\"Without seed, different output:\")\n",
    "print(rng.random(size=10))\n",
    "print(rng.random(size=10))\n",
    "print(rng.random(size=10))\n",
    "print(\"------------------------------\")\n",
    "print(\"\")\n",
    "# use the seed we used before and still same outcome\n",
    "print(\"using the same seed used above:\")\n",
    "rng=np.random.default_rng(seed=seed)\n",
    "print(rng.random(size = 5))"
   ]
  },
  {
   "cell_type": "markdown",
   "id": "e691dbcf-50d4-4b0e-9bcf-66c84283e51e",
   "metadata": {},
   "source": [
    "<br>"
   ]
  },
  {
   "cell_type": "markdown",
   "id": "0b4bec1d-5e2e-4284-b46e-714d92a2fae7",
   "metadata": {},
   "source": [
    "#### PCG64 vs MT19937\n",
    "\n",
    "numpy.random recently changed the Psuedo Random Number Generator from **Mersenne Twister** to **Permuted Congruential Generator(PCG64)**[5][6]. Based on pcg-random.org[4], PCG is faster, more compact which means using less memory, harder to predict, support multiple streams (analogy of 1 code book vs multiple code books), smaller code size and complexity. <br>\n"
   ]
  },
  {
   "cell_type": "markdown",
   "id": "ccce04ff",
   "metadata": {},
   "source": [
    "<br>\n",
    "<br>"
   ]
  },
  {
   "cell_type": "markdown",
   "id": "1de2f400-2deb-4072-be4f-0671629e0439",
   "metadata": {},
   "source": [
    "## References\n",
    "***"
   ]
  },
  {
   "cell_type": "markdown",
   "id": "48ada16d-1d77-44be-91a5-58b5f98a3589",
   "metadata": {},
   "source": [
    "[1] https://numpy.org/doc/stable/reference/random/index.html?highlight=numpy%20random#module-numpy.random"
   ]
  },
  {
   "cell_type": "markdown",
   "id": "53d67e2d-84ce-48a4-a524-9f65854bface",
   "metadata": {},
   "source": [
    "[2] https://en.wikipedia.org/wiki/Binomial_distribution"
   ]
  },
  {
   "cell_type": "markdown",
   "id": "f3c5a681-5ddd-4122-9974-7562da3a3baf",
   "metadata": {},
   "source": [
    "[3]https://en.wikipedia.org/wiki/Chi-squared_distribution#Introduction"
   ]
  },
  {
   "cell_type": "markdown",
   "id": "828d440c-7b4e-4178-9894-db98ae429a5b",
   "metadata": {},
   "source": [
    "[4] https://www.pcg-random.org"
   ]
  },
  {
   "cell_type": "markdown",
   "id": "eb459ff2-43c8-4e93-8ba1-d1537fa3fe98",
   "metadata": {},
   "source": [
    "[5]https://numpy.org/doc/stable/reference/random/bit_generators/mt19937.html#numpy.random.MT19937\n"
   ]
  },
  {
   "cell_type": "markdown",
   "id": "7af9e451-a3a1-42c3-a467-f21772c4b20a",
   "metadata": {},
   "source": [
    "[6]https://numpy.org/doc/stable/reference/random/bit_generators/pcg64.html#numpy.random.PCG64 "
   ]
  },
  {
   "cell_type": "code",
   "execution_count": null,
   "id": "2f5c7520-5cae-449b-bd1f-312e6bf8c52b",
   "metadata": {},
   "outputs": [],
   "source": []
  }
 ],
 "metadata": {
  "kernelspec": {
   "display_name": "Python 3",
   "language": "python",
   "name": "python3"
  },
  "language_info": {
   "codemirror_mode": {
    "name": "ipython",
    "version": 3
   },
   "file_extension": ".py",
   "mimetype": "text/x-python",
   "name": "python",
   "nbconvert_exporter": "python",
   "pygments_lexer": "ipython3",
   "version": "3.8.8"
  }
 },
 "nbformat": 4,
 "nbformat_minor": 5
}
