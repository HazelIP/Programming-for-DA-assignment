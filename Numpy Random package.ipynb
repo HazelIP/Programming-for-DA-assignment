{
 "cells": [
  {
   "cell_type": "markdown",
   "id": "b0be0df5-8a6d-42c0-ae13-05860c4caa90",
   "metadata": {},
   "source": [
    "# Numpy Random package (deadline: 22/11/2021)\n",
    "## What is it?\n",
    "***\n"
   ]
  },
  {
   "cell_type": "code",
   "execution_count": null,
   "id": "93a7b16a-1ffd-4214-9fee-3ac4a2184a3c",
   "metadata": {},
   "outputs": [],
   "source": []
  },
  {
   "cell_type": "code",
   "execution_count": null,
   "id": "3bd1d661-603f-440c-8549-f7e40e8f010a",
   "metadata": {},
   "outputs": [],
   "source": []
  },
  {
   "cell_type": "markdown",
   "id": "54006d1b-bfb3-4ca5-bb55-c8b98d6d596d",
   "metadata": {},
   "source": [
    "## Simple Random Data vs Permutation function"
   ]
  },
  {
   "cell_type": "code",
   "execution_count": null,
   "id": "00c40a38-6833-4d3b-8180-aa0bdedbdf98",
   "metadata": {},
   "outputs": [],
   "source": []
  },
  {
   "cell_type": "code",
   "execution_count": null,
   "id": "b29a8150-c37b-4375-8020-0d3c3c7117e3",
   "metadata": {},
   "outputs": [],
   "source": []
  },
  {
   "cell_type": "markdown",
   "id": "99d31387-0f1d-483e-9e35-be1d70311006",
   "metadata": {},
   "source": [
    "## explain the use and purpose of 5 distributions"
   ]
  },
  {
   "cell_type": "code",
   "execution_count": null,
   "id": "81a14634-31f3-4946-a081-cd427e8402b3",
   "metadata": {},
   "outputs": [],
   "source": []
  },
  {
   "cell_type": "code",
   "execution_count": null,
   "id": "6becd4a8-f961-4c65-a71a-ef43790158ee",
   "metadata": {},
   "outputs": [],
   "source": []
  },
  {
   "cell_type": "markdown",
   "id": "8abcc10a-cb8f-48bd-b371-dc7986e50016",
   "metadata": {},
   "source": [
    "## explain the use of seeds in generating psuedorandom number\n",
    "#### how to do it?"
   ]
  },
  {
   "cell_type": "code",
   "execution_count": null,
   "id": "53e3244b-215c-4473-af30-770a2cad9f5e",
   "metadata": {},
   "outputs": [],
   "source": []
  },
  {
   "cell_type": "code",
   "execution_count": null,
   "id": "e3259e4c-be42-417d-9269-a5ffafc45212",
   "metadata": {},
   "outputs": [],
   "source": []
  },
  {
   "cell_type": "code",
   "execution_count": null,
   "id": "d96308c0-b60e-4a6e-8f69-e1d8c0cb46c8",
   "metadata": {},
   "outputs": [],
   "source": []
  }
 ],
 "metadata": {
  "kernelspec": {
   "display_name": "Python 3",
   "language": "python",
   "name": "python3"
  },
  "language_info": {
   "codemirror_mode": {
    "name": "ipython",
    "version": 3
   },
   "file_extension": ".py",
   "mimetype": "text/x-python",
   "name": "python",
   "nbconvert_exporter": "python",
   "pygments_lexer": "ipython3",
   "version": "3.8.8"
  }
 },
 "nbformat": 4,
 "nbformat_minor": 5
}
