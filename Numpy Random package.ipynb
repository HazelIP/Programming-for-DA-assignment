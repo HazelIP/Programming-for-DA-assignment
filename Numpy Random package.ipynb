{
 "cells": [
  {
   "cell_type": "markdown",
   "id": "b0be0df5-8a6d-42c0-ae13-05860c4caa90",
   "metadata": {},
   "source": [
    "# Numpy Random package (deadline: 22/11/2021)\n",
    "## What is it?\n",
    "***\n"
   ]
  },
  {
   "cell_type": "markdown",
   "id": "5b1655c1-dc2a-415b-868c-29b0072684a8",
   "metadata": {},
   "source": [
    "**\"Numpy** is a python library that provides multidimensional array object, for fast operations on arrays.\"; \"contains multidimensional array and matrix data structures\"; \"It adds powerful data structures to Python that guarantee efficient calculations with arrays and matrices \"\n",
    "**Random package** produces pseudo random numbers using combinations of a BitGenerator to create sequences and a Generator to use those sequences to sample from different statistical distributions. *[reference]*"
   ]
  },
  {
   "cell_type": "markdown",
   "id": "3af8e5da-d44b-4e23-aaaf-60c9dc6652ab",
   "metadata": {},
   "source": [
    "PCG64 vs M19937T: Better statistical properties and faster"
   ]
  },
  {
   "cell_type": "markdown",
   "id": "54006d1b-bfb3-4ca5-bb55-c8b98d6d596d",
   "metadata": {},
   "source": [
    "## Simple Random Data "
   ]
  },
  {
   "cell_type": "code",
   "execution_count": 14,
   "id": "252ca6f5-0139-407a-892e-2f9964884d98",
   "metadata": {},
   "outputs": [
    {
     "data": {
      "text/plain": [
       "array([40, 31, 36], dtype=int64)"
      ]
     },
     "execution_count": 14,
     "metadata": {},
     "output_type": "execute_result"
    }
   ],
   "source": [
    "import numpy as np\n",
    "rng = np.random.default_rng()\n",
    "rfloat = rng.random(size=3) # generate 3 random float numbers\n",
    "rint = rng.integers(100, size=3) #generate 3 random integers\n",
    "rint"
   ]
  },
  {
   "cell_type": "markdown",
   "id": "f35e574d-2b42-4ab7-b98b-c2498727ee73",
   "metadata": {},
   "source": [
    "## What is Seeding\n",
    "Seeding is to make sure same sets of Psuedo random number is generated for easier replication of output. if you provide the same seed, you will get the same output.And if you change the seed, you will get a different output. The output that you get depends on the input that you give it.<br/>\n",
    "\n",
    "**How to Seed?**"
   ]
  },
  {
   "cell_type": "code",
   "execution_count": 1,
   "id": "93a7b16a-1ffd-4214-9fee-3ac4a2184a3c",
   "metadata": {},
   "outputs": [
    {
     "data": {
      "text/plain": [
       "0.417022004702574"
      ]
     },
     "execution_count": 1,
     "metadata": {},
     "output_type": "execute_result"
    }
   ],
   "source": [
    "import numpy as np\n",
    "np.random.seed(1)\n",
    "np.random.random() # generate a random float number between 0 and 1"
   ]
  },
  {
   "cell_type": "code",
   "execution_count": 5,
   "id": "8c323c39-2b35-4b67-b0a9-18ee1eaa55c3",
   "metadata": {},
   "outputs": [
    {
     "data": {
      "text/plain": [
       "array([0.4359949 , 0.02592623, 0.54966248, 0.43532239, 0.4203678 ,\n",
       "       0.33033482, 0.20464863, 0.61927097, 0.29965467, 0.26682728])"
      ]
     },
     "execution_count": 5,
     "metadata": {},
     "output_type": "execute_result"
    }
   ],
   "source": [
    "np.random.seed(2)\n",
    "# generate 10 random float numbers between 0 and 1\n",
    "np.random.random(size = 10) "
   ]
  },
  {
   "cell_type": "code",
   "execution_count": 6,
   "id": "bc9b5f43-282a-4bac-a353-06d04f6011d5",
   "metadata": {},
   "outputs": [
    {
     "data": {
      "text/plain": [
       "array([24,  3, 56, 72,  0, 21, 19, 74, 41, 10])"
      ]
     },
     "execution_count": 6,
     "metadata": {},
     "output_type": "execute_result"
    }
   ],
   "source": [
    "np.random.seed(3)\n",
    "# generate 10 random integer between 0 (inclusive) and 100 (exclusive)\n",
    "np.random.randint(low=0, high=100, size = 10)"
   ]
  },
  {
   "cell_type": "code",
   "execution_count": 8,
   "id": "8484c514-543c-42b6-a69c-ae8d4bf3c48e",
   "metadata": {},
   "outputs": [
    {
     "data": {
      "text/plain": [
       "array([46, 55, 69,  1, 87, 72, 50,  9, 58, 94])"
      ]
     },
     "execution_count": 8,
     "metadata": {},
     "output_type": "execute_result"
    }
   ],
   "source": [
    "np.random.seed(4)\n",
    "# generate 10 random integer between 0 (inclusive) and 100 (exclusive)\n",
    "np.random.randint(100, size = 10) # different seed different output"
   ]
  },
  {
   "cell_type": "code",
   "execution_count": null,
   "id": "964fdd7b-0937-4aab-8443-4ba68141fd9a",
   "metadata": {},
   "outputs": [],
   "source": []
  },
  {
   "cell_type": "code",
   "execution_count": null,
   "id": "0ee7302c-42e4-4ce7-a33d-82fce2c4eb1b",
   "metadata": {},
   "outputs": [],
   "source": []
  },
  {
   "cell_type": "markdown",
   "id": "f27c668a-90c2-444b-b180-763ef4110cc0",
   "metadata": {},
   "source": [
    "It works with other functions in random package, eg: numpy.random.normal to create normally distributed numbers or numpy.random.choice to generate a random sample from an input"
   ]
  },
  {
   "cell_type": "code",
   "execution_count": null,
   "id": "fdce0d21-c489-4ec3-8699-07cf637a0195",
   "metadata": {},
   "outputs": [],
   "source": []
  },
  {
   "cell_type": "code",
   "execution_count": null,
   "id": "a8abf8e1-07a8-4413-bb58-a5102ba74792",
   "metadata": {},
   "outputs": [],
   "source": []
  },
  {
   "cell_type": "markdown",
   "id": "04336d7e-5ab3-46e2-bfaf-9a923eaa7062",
   "metadata": {},
   "source": [
    "Optional axis argument for methods like choice, permutation and shuffle that controls which axis an operation is performed over for multi-dimensional arrays."
   ]
  },
  {
   "cell_type": "markdown",
   "id": "d28d13b9-9b26-4320-9c85-4823e40b841e",
   "metadata": {},
   "source": [
    " ## Permutation function\n",
    " ** why?**\n",
    " There are 3 methods of permutations, shuffle, permutation and permuted"
   ]
  },
  {
   "cell_type": "markdown",
   "id": "64ea6510-eecb-4b83-8edc-1189461dc6da",
   "metadata": {},
   "source": [
    "#### Shuffle(x,[,axis])\n",
    "in-place, order of sub-arrays is changed, but contents remains the same, works on 1-d, 2-d arrays"
   ]
  },
  {
   "cell_type": "code",
   "execution_count": null,
   "id": "4d2f7214-c186-4f93-88f2-dc1d26e3b091",
   "metadata": {},
   "outputs": [],
   "source": []
  },
  {
   "cell_type": "markdown",
   "id": "3062db94-5be7-43cd-9bec-6f384c3da26d",
   "metadata": {},
   "source": [
    "#### permutation(x[,axis])\n",
    "make a copy, shuffle elements in the array randomly"
   ]
  },
  {
   "cell_type": "code",
   "execution_count": null,
   "id": "8fa6f202-2bfc-4147-8635-cdd2bbfc5063",
   "metadata": {},
   "outputs": [],
   "source": []
  },
  {
   "cell_type": "markdown",
   "id": "f4b28a36-6c7d-447f-87f5-472f1fde8f6a",
   "metadata": {},
   "source": [
    "#### permuted(x[,axis, out])\n",
    "if out is given, shuffled array is returned there; if out is none, a shuffled copy is returned "
   ]
  },
  {
   "cell_type": "markdown",
   "id": "99d31387-0f1d-483e-9e35-be1d70311006",
   "metadata": {},
   "source": [
    "## explain the use and purpose of 5 distributions"
   ]
  },
  {
   "cell_type": "code",
   "execution_count": null,
   "id": "03b82a1e-744c-40b8-9c9e-a4b7b4049578",
   "metadata": {},
   "outputs": [],
   "source": []
  },
  {
   "cell_type": "code",
   "execution_count": null,
   "id": "81a14634-31f3-4946-a081-cd427e8402b3",
   "metadata": {},
   "outputs": [],
   "source": []
  },
  {
   "cell_type": "code",
   "execution_count": null,
   "id": "6becd4a8-f961-4c65-a71a-ef43790158ee",
   "metadata": {},
   "outputs": [],
   "source": []
  },
  {
   "cell_type": "markdown",
   "id": "2b4f6045-f04c-481d-b458-98009ef01e00",
   "metadata": {},
   "source": []
  },
  {
   "cell_type": "code",
   "execution_count": null,
   "id": "e3259e4c-be42-417d-9269-a5ffafc45212",
   "metadata": {},
   "outputs": [],
   "source": []
  },
  {
   "cell_type": "code",
   "execution_count": null,
   "id": "d96308c0-b60e-4a6e-8f69-e1d8c0cb46c8",
   "metadata": {},
   "outputs": [],
   "source": []
  }
 ],
 "metadata": {
  "kernelspec": {
   "display_name": "Python 3",
   "language": "python",
   "name": "python3"
  },
  "language_info": {
   "codemirror_mode": {
    "name": "ipython",
    "version": 3
   },
   "file_extension": ".py",
   "mimetype": "text/x-python",
   "name": "python",
   "nbconvert_exporter": "python",
   "pygments_lexer": "ipython3",
   "version": "3.8.8"
  }
 },
 "nbformat": 4,
 "nbformat_minor": 5
}
