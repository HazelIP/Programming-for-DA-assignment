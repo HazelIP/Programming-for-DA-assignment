{
 "cells": [
  {
   "cell_type": "markdown",
   "id": "b0be0df5-8a6d-42c0-ae13-05860c4caa90",
   "metadata": {},
   "source": [
    "# Numpy.random package (deadline: 22/11/2021)\n",
    "***\n",
    "This notebook is part of the assessment of the course \"Programming for Data Analysis\". It explains the use of Numpy.random package and demostrates some features and distributions.\n",
    "<br>\n",
    "<br>"
   ]
  },
  {
   "cell_type": "markdown",
   "id": "5b1655c1-dc2a-415b-868c-29b0072684a8",
   "metadata": {},
   "source": [
    "## What is numpy? What is numpy.random package?\n",
    "**Numpy** is a python library that provides multidimensional array object, for fast operations on arrays.\"; \"contains multidimensional array and matrix data structures\"; \"It adds powerful data structures to Python that guarantee efficient calculations with arrays and matrices\" <br>\n",
    "link: https://numpy.org/doc/stable/user/whatisnumpy.html <br>\n",
    "<br>\n",
    "\n",
    "**numpy.random package** produces pseudo random numbers using combinations of a BitGenerator to create sequences and a Generator to use those sequences to sample from different statistical distributions. *[reference: https://numpy.org/doc/stable/reference/random/index.html?highlight=numpy%20random#module-numpy.random]*"
   ]
  },
  {
   "cell_type": "markdown",
   "id": "3af8e5da-d44b-4e23-aaaf-60c9dc6652ab",
   "metadata": {},
   "source": [
    "PCG64 vs M19937T: Better statistical properties and faster\n"
   ]
  },
  {
   "cell_type": "markdown",
   "id": "54006d1b-bfb3-4ca5-bb55-c8b98d6d596d",
   "metadata": {},
   "source": [
    "## Simple Random Data \n",
    "**Why do we need random data?** <br>\n",
    "<br>\n",
    "**How to generate random data?**<br>\n",
    "Generating Psuedo-random number is easy, get a new instance of generator first, then simply call .random(). Note the default type is a float."
   ]
  },
  {
   "cell_type": "code",
   "execution_count": 13,
   "id": "c93aa71b-dfa4-4894-b1a6-03c9b34036c2",
   "metadata": {},
   "outputs": [],
   "source": [
    "# set up\n",
    "import numpy as np\n",
    "import matplotlib.pyplot as plt"
   ]
  },
  {
   "cell_type": "code",
   "execution_count": 17,
   "id": "252ca6f5-0139-407a-892e-2f9964884d98",
   "metadata": {},
   "outputs": [
    {
     "name": "stdout",
     "output_type": "stream",
     "text": [
      "[0.93956648]\n",
      "[0.31719784 0.97280121 0.3136783 ]\n"
     ]
    }
   ],
   "source": [
    "# get a new instance of a Generator\n",
    "rng = np.random.default_rng()\n",
    "\n",
    "# Let's try generating 1 random number, default a float\n",
    "a = rng.random(size=1) #size indicates number of random number returned\n",
    "print(a)\n",
    "b = rng.random(size=3)\n",
    "print(b)"
   ]
  },
  {
   "cell_type": "code",
   "execution_count": 18,
   "id": "1240ac15-9636-4934-8455-fe9c11e2dafb",
   "metadata": {},
   "outputs": [
    {
     "name": "stdout",
     "output_type": "stream",
     "text": [
      "[ 0  7 18 12 87]\n"
     ]
    }
   ],
   "source": [
    "# try generating 5 random integers between 0 to 100 this time, \n",
    "# default from a discrete uniform distribution\n",
    "rint = rng.integers(low=0, high=100, size=5)\n",
    "print(rint)"
   ]
  },
  {
   "cell_type": "markdown",
   "id": "93e1684e-be80-4d72-9dcb-3860f553b670",
   "metadata": {},
   "source": [
    "## Permutation\n",
    "**WHY? **\n",
    "There are 3 methods of permutations, shuffle, permutation and permuted."
   ]
  },
  {
   "cell_type": "markdown",
   "id": "418753ca-463c-4a9c-8015-bbc9803a2ad2",
   "metadata": {},
   "source": [
    "#### Shuffle(x,[,axis])\n",
    "in-place, order of sub-arrays is changed, but contents remains the same, works on 1-d, 2-d arrays"
   ]
  },
  {
   "cell_type": "code",
   "execution_count": 19,
   "id": "ce262e9c-b0a4-4a78-a4e4-1abc84ebbaf8",
   "metadata": {},
   "outputs": [
    {
     "name": "stdout",
     "output_type": "stream",
     "text": [
      "None\n",
      "[4 2 5 3 1]\n"
     ]
    }
   ],
   "source": [
    "# Shuffle\n",
    "# rng = np.random.default_rng(seed = 123)\n",
    "arr = np.array([1, 2, 3, 4, 5])\n",
    "\n",
    "np.random.shuffle(arr)\n",
    "print(np.random.shuffle(arr)) \n",
    "print(arr)"
   ]
  },
  {
   "cell_type": "code",
   "execution_count": 20,
   "id": "fcc54956-0e20-443f-91ca-cf9a9ee9be90",
   "metadata": {},
   "outputs": [
    {
     "name": "stdout",
     "output_type": "stream",
     "text": [
      "None\n",
      "[[1 2 3 4]\n",
      " [4 5 6 7]\n",
      " [6 7 8 9]]\n"
     ]
    }
   ],
   "source": [
    "# shuffling 2d array\n",
    "arr2d = np.array([[1, 2, 3, 4],[4, 5, 6, 7],[6, 7, 8, 9]])\n",
    "np.random.shuffle(arr2d)\n",
    "print(np.random.shuffle(arr2d)) \n",
    "print(arr2d)"
   ]
  },
  {
   "cell_type": "markdown",
   "id": "bbe3ddcc-faac-451b-9830-639c0f52036c",
   "metadata": {},
   "source": [
    "#### permutation(x[,axis])\n",
    "make a copy, shuffle elements in the array randomly"
   ]
  },
  {
   "cell_type": "code",
   "execution_count": null,
   "id": "5114de8c-231c-4f00-a2ea-8f2fb4bd3964",
   "metadata": {},
   "outputs": [],
   "source": [
    "# Permutation\n",
    "arr = np.array([1, 2, 3, 4, 5])\n",
    "np.random.permutation(arr)\n",
    "print(np.random.permutation(arr))\n",
    "print(arr)"
   ]
  },
  {
   "cell_type": "code",
   "execution_count": null,
   "id": "0a3b7b50-5cb1-4b01-8433-3b14be9f494c",
   "metadata": {},
   "outputs": [],
   "source": []
  },
  {
   "cell_type": "markdown",
   "id": "283faf93-04b9-414b-8495-677ad7175422",
   "metadata": {},
   "source": [
    "#### permuted(x[,axis, out])\n",
    "if out is given, shuffled array is returned there; if out is none, a shuffled copy is returned "
   ]
  },
  {
   "cell_type": "code",
   "execution_count": 21,
   "id": "ba0e882b-5da6-4e01-81fd-e91eb6390c71",
   "metadata": {},
   "outputs": [
    {
     "ename": "AxisError",
     "evalue": "axis 1 is out of bounds for array of dimension 1",
     "output_type": "error",
     "traceback": [
      "\u001b[1;31m---------------------------------------------------------------------------\u001b[0m",
      "\u001b[1;31mAxisError\u001b[0m                                 Traceback (most recent call last)",
      "\u001b[1;32m<ipython-input-21-e14777fd39c8>\u001b[0m in \u001b[0;36m<module>\u001b[1;34m\u001b[0m\n\u001b[0;32m      1\u001b[0m \u001b[1;31m# Permutated\u001b[0m\u001b[1;33m\u001b[0m\u001b[1;33m\u001b[0m\u001b[1;33m\u001b[0m\u001b[0m\n\u001b[0;32m      2\u001b[0m \u001b[0marr\u001b[0m\u001b[1;33m=\u001b[0m\u001b[0mnp\u001b[0m\u001b[1;33m.\u001b[0m\u001b[0marray\u001b[0m\u001b[1;33m(\u001b[0m\u001b[1;33m[\u001b[0m\u001b[1;36m1\u001b[0m\u001b[1;33m,\u001b[0m\u001b[1;36m2\u001b[0m\u001b[1;33m,\u001b[0m\u001b[1;36m3\u001b[0m\u001b[1;33m,\u001b[0m\u001b[1;36m4\u001b[0m\u001b[1;33m,\u001b[0m\u001b[1;36m5\u001b[0m\u001b[1;33m]\u001b[0m\u001b[1;33m)\u001b[0m\u001b[1;33m\u001b[0m\u001b[1;33m\u001b[0m\u001b[0m\n\u001b[1;32m----> 3\u001b[1;33m \u001b[0marr1\u001b[0m \u001b[1;33m=\u001b[0m \u001b[0mrng\u001b[0m\u001b[1;33m.\u001b[0m\u001b[0mpermuted\u001b[0m\u001b[1;33m(\u001b[0m\u001b[0marr\u001b[0m\u001b[1;33m,\u001b[0m\u001b[0maxis\u001b[0m\u001b[1;33m=\u001b[0m\u001b[1;36m1\u001b[0m\u001b[1;33m,\u001b[0m\u001b[0mout\u001b[0m\u001b[1;33m=\u001b[0m\u001b[0marr\u001b[0m\u001b[1;33m)\u001b[0m \u001b[1;31m#???!!!\u001b[0m\u001b[1;33m\u001b[0m\u001b[1;33m\u001b[0m\u001b[0m\n\u001b[0m\u001b[0;32m      4\u001b[0m \u001b[0mprint\u001b[0m\u001b[1;33m(\u001b[0m\u001b[0marr\u001b[0m\u001b[1;33m,\u001b[0m\u001b[0marr1\u001b[0m\u001b[1;33m)\u001b[0m\u001b[1;33m\u001b[0m\u001b[1;33m\u001b[0m\u001b[0m\n",
      "\u001b[1;32m_generator.pyx\u001b[0m in \u001b[0;36mnumpy.random._generator.Generator.permuted\u001b[1;34m()\u001b[0m\n",
      "\u001b[1;31mAxisError\u001b[0m: axis 1 is out of bounds for array of dimension 1"
     ]
    }
   ],
   "source": [
    "# Permutated\n",
    "arr=np.array([1,2,3,4,5])\n",
    "arr1 = rng.permuted(arr,axis=1,out=arr) #???!!!\n",
    "print(arr,arr1)"
   ]
  },
  {
   "cell_type": "code",
   "execution_count": 22,
   "id": "a9511468-d1cd-4ec6-b796-f33dddbf6a3d",
   "metadata": {},
   "outputs": [],
   "source": [
    "# choice"
   ]
  },
  {
   "cell_type": "code",
   "execution_count": 23,
   "id": "9e4f5413-be07-436b-b3a1-2f56643cc7d7",
   "metadata": {},
   "outputs": [],
   "source": [
    "# bytes"
   ]
  },
  {
   "cell_type": "code",
   "execution_count": null,
   "id": "08307ad0-5f51-4ac9-9c7b-be9deecdb1d1",
   "metadata": {},
   "outputs": [],
   "source": []
  },
  {
   "cell_type": "markdown",
   "id": "f35e574d-2b42-4ab7-b98b-c2498727ee73",
   "metadata": {},
   "source": [
    "## What is Seeding\n",
    "Seeding is to make sure same sets of Psuedo random number is generated for easier replication of output. If you provide the same seed, you will get the same output.And if you change the seed, you will get a different output. The output that you get depends on the input that you give it.<br/>\n",
    "\n",
    "**How to Seed?**"
   ]
  },
  {
   "cell_type": "code",
   "execution_count": 1,
   "id": "93a7b16a-1ffd-4214-9fee-3ac4a2184a3c",
   "metadata": {},
   "outputs": [
    {
     "data": {
      "text/plain": [
       "0.417022004702574"
      ]
     },
     "execution_count": 1,
     "metadata": {},
     "output_type": "execute_result"
    }
   ],
   "source": [
    "import numpy as np\n",
    "np.random.seed(1)\n",
    "np.random.random() # generate a random float number between 0 and 1"
   ]
  },
  {
   "cell_type": "code",
   "execution_count": 5,
   "id": "8c323c39-2b35-4b67-b0a9-18ee1eaa55c3",
   "metadata": {},
   "outputs": [
    {
     "data": {
      "text/plain": [
       "array([0.4359949 , 0.02592623, 0.54966248, 0.43532239, 0.4203678 ,\n",
       "       0.33033482, 0.20464863, 0.61927097, 0.29965467, 0.26682728])"
      ]
     },
     "execution_count": 5,
     "metadata": {},
     "output_type": "execute_result"
    }
   ],
   "source": [
    "np.random.seed(2)\n",
    "# generate 10 random float numbers between 0 and 1\n",
    "np.random.random(size = 10) "
   ]
  },
  {
   "cell_type": "code",
   "execution_count": 6,
   "id": "bc9b5f43-282a-4bac-a353-06d04f6011d5",
   "metadata": {},
   "outputs": [
    {
     "data": {
      "text/plain": [
       "array([24,  3, 56, 72,  0, 21, 19, 74, 41, 10])"
      ]
     },
     "execution_count": 6,
     "metadata": {},
     "output_type": "execute_result"
    }
   ],
   "source": [
    "np.random.seed(3)\n",
    "# generate 10 random integer between 0 (inclusive) and 100 (exclusive)\n",
    "np.random.randint(low=0, high=100, size = 10)"
   ]
  },
  {
   "cell_type": "code",
   "execution_count": 8,
   "id": "8484c514-543c-42b6-a69c-ae8d4bf3c48e",
   "metadata": {},
   "outputs": [
    {
     "data": {
      "text/plain": [
       "array([46, 55, 69,  1, 87, 72, 50,  9, 58, 94])"
      ]
     },
     "execution_count": 8,
     "metadata": {},
     "output_type": "execute_result"
    }
   ],
   "source": [
    "np.random.seed(4)\n",
    "# generate 10 random integer between 0 (inclusive) and 100 (exclusive)\n",
    "np.random.randint(100, size = 10) # different seed different output"
   ]
  },
  {
   "cell_type": "code",
   "execution_count": null,
   "id": "964fdd7b-0937-4aab-8443-4ba68141fd9a",
   "metadata": {},
   "outputs": [],
   "source": []
  },
  {
   "cell_type": "code",
   "execution_count": null,
   "id": "0ee7302c-42e4-4ce7-a33d-82fce2c4eb1b",
   "metadata": {},
   "outputs": [],
   "source": []
  },
  {
   "cell_type": "markdown",
   "id": "f27c668a-90c2-444b-b180-763ef4110cc0",
   "metadata": {},
   "source": [
    "It works with other functions in random package, eg: numpy.random.normal to create normally distributed numbers or numpy.random.choice to generate a random sample from an input"
   ]
  },
  {
   "cell_type": "code",
   "execution_count": null,
   "id": "fdce0d21-c489-4ec3-8699-07cf637a0195",
   "metadata": {},
   "outputs": [],
   "source": []
  },
  {
   "cell_type": "code",
   "execution_count": null,
   "id": "a8abf8e1-07a8-4413-bb58-a5102ba74792",
   "metadata": {},
   "outputs": [],
   "source": []
  },
  {
   "cell_type": "markdown",
   "id": "04336d7e-5ab3-46e2-bfaf-9a923eaa7062",
   "metadata": {},
   "source": [
    "Optional axis argument for methods like choice (like rolling dice multiple times, permutation and shuffle that controls which axis an operation is performed over for multi-dimensional arrays."
   ]
  },
  {
   "cell_type": "markdown",
   "id": "99d31387-0f1d-483e-9e35-be1d70311006",
   "metadata": {},
   "source": [
    "## explain the use and purpose of 5 distributions"
   ]
  },
  {
   "cell_type": "markdown",
   "id": "aedb192e-964c-4719-b015-1a0e7a0776c0",
   "metadata": {},
   "source": [
    "#### Binomial Distribution\n",
    "(https://en.wikipedia.org/wiki/Binomial_distribution)  e.g. flipping a coin<br>\n",
    "The binomial distribution is frequently used to model the number of successes in a sample of size n drawn with replacement from a population of size N.\n",
    "the binomial distribution with parameters n and p is the discrete probability distribution of the number of successes in a sequence of n independent experiments, each asking a yes–no question, and each with its own Boolean-valued outcome: success (with probability p) or failure (with probability q = 1 − p)."
   ]
  },
  {
   "cell_type": "code",
   "execution_count": 3,
   "id": "81a14634-31f3-4946-a081-cd427e8402b3",
   "metadata": {},
   "outputs": [
    {
     "data": {
      "image/png": "[encoded data removed]",
      "text/plain": [
       "<Figure size 432x288 with 1 Axes>"
      ]
     },
     "metadata": {
      "needs_background": "light"
     },
     "output_type": "display_data"
    }
   ],
   "source": [
    "# binomial \n",
    "rng = np.random.default_rng()\n",
    "n, p = 10, .5  # number of trials, probability of each trial\n",
    "s = rng.binomial(n, p, 10)\n",
    "plt.plot(s)\n",
    "plt.show()"
   ]
  },
  {
   "cell_type": "code",
   "execution_count": null,
   "id": "201a54b7-4520-48f8-ba47-df6099593494",
   "metadata": {},
   "outputs": [],
   "source": []
  },
  {
   "cell_type": "markdown",
   "id": "1859e321-6322-4b31-a2ca-50314a8110a2",
   "metadata": {},
   "source": [
    "#### Exponential Distribution\n",
    "-definition?\n",
    "-what is it used for?"
   ]
  },
  {
   "cell_type": "code",
   "execution_count": null,
   "id": "0e9e9303-fa28-49cf-9ff4-6123a3a743f0",
   "metadata": {},
   "outputs": [],
   "source": []
  },
  {
   "cell_type": "code",
   "execution_count": null,
   "id": "da46998f-7750-4113-ae05-4068768834e7",
   "metadata": {},
   "outputs": [],
   "source": []
  },
  {
   "cell_type": "markdown",
   "id": "cc1007cc-59b0-4bcc-a089-3e01a641f561",
   "metadata": {},
   "source": [
    "#### Chi-square Distribution\n",
    "(https://en.wikipedia.org/wiki/Chi-squared_distribution#Introduction) <br>\n",
    "chi-square test: for categorical, cross tabulations(2 categorical variates), takes expected frequency and actual frequency. it tests goodness of fit(1 variable), test of independence(2 variables). degree of freedom=((row-1))column-1)). level of significance (p value), usually 95%\n",
    "can be thought of as the \"square\" of a selection taken from a standard normal distribution;\n",
    "shape of plot depends on degree of freedom (k)\n",
    "mean = k; variance = 2k <br>\n",
    "chi-square distribution with k degrees of freedom is the distribution of a sum of the squares of k independent standard normal random variables. It is usually used for hypothesis testing as it is related to normal distribution\n",
    "**What is this used for?**<br>\n"
   ]
  },
  {
   "cell_type": "code",
   "execution_count": 1,
   "id": "6becd4a8-f961-4c65-a71a-ef43790158ee",
   "metadata": {},
   "outputs": [
    {
     "data": {
      "image/png": "[encoded data removed]",
      "text/plain": [
       "<Figure size 432x288 with 1 Axes>"
      ]
     },
     "metadata": {
      "needs_background": "light"
     },
     "output_type": "display_data"
    }
   ],
   "source": [
    "# chi-square\n",
    "import numpy as np\n",
    "import matplotlib.pyplot as plt\n",
    "x = np.random.default_rng().chisquare(2,4)\n",
    " # array([ 1.89920014,  9.00867716,  3.13710533,  5.62318272]) # random\n",
    "plt.plot(x)\n",
    "plt.show()"
   ]
  },
  {
   "cell_type": "code",
   "execution_count": null,
   "id": "52903cdd-2597-490b-8e00-9aa99aa1fe4d",
   "metadata": {},
   "outputs": [],
   "source": []
  },
  {
   "cell_type": "markdown",
   "id": "2b4f6045-f04c-481d-b458-98009ef01e00",
   "metadata": {},
   "source": [
    "#### Uniform Distribution\n",
    "(https://en.wikipedia.org/wiki/Discrete_uniform_distribution) <br>\n",
    "Uniform distribution essentially means there are a known, finite number of outcomes, each has equal probability to happen. An example is throwing a fair dice, with 6 known, finite outcomes 1,2,3,4,5,6. Each time the die is thrown, the probability of a given outcome is 1/6.\n"
   ]
  },
  {
   "cell_type": "code",
   "execution_count": 8,
   "id": "e3259e4c-be42-417d-9269-a5ffafc45212",
   "metadata": {},
   "outputs": [
    {
     "data": {
      "image/png": "[encoded data removed]",
      "text/plain": [
       "<Figure size 432x288 with 1 Axes>"
      ]
     },
     "metadata": {
      "needs_background": "light"
     },
     "output_type": "display_data"
    }
   ],
   "source": [
    "# uniform\n",
    "import matplotlib.pyplot as plt\n",
    "s = np.random.default_rng().uniform(-1,0,1000)\n",
    "count, bins, ignored = plt.hist(s, 15, density=True)\n",
    "plt.plot(bins, np.ones_like(bins), linewidth=2, color='r')\n",
    "plt.show()"
   ]
  },
  {
   "cell_type": "code",
   "execution_count": 9,
   "id": "c5d78168-8f57-47e6-9702-b8e29f1c98c6",
   "metadata": {},
   "outputs": [
    {
     "data": {
      "image/png": "[encoded data removed]",
      "text/plain": [
       "<Figure size 432x288 with 1 Axes>"
      ]
     },
     "metadata": {
      "needs_background": "light"
     },
     "output_type": "display_data"
    }
   ],
   "source": [
    "# uniform\n",
    "import matplotlib.pyplot as plt\n",
    "s = np.random.default_rng().uniform(-1,0,10000)\n",
    "count, bins, ignored = plt.hist(s, 15, density=True)\n",
    "plt.plot(bins, np.ones_like(bins), linewidth=2, color='r')\n",
    "plt.show()"
   ]
  },
  {
   "cell_type": "markdown",
   "id": "c190df0e-8ce5-4932-9cd6-cae0024d6a12",
   "metadata": {},
   "source": [
    "The larger the sample size, the closer the bar to the red line."
   ]
  },
  {
   "cell_type": "markdown",
   "id": "f76a6589-31fd-481e-ac5e-f9cd99689942",
   "metadata": {},
   "source": [
    "#### Normal Distribution\n",
    "(https://en.wikipedia.org/wiki/Normal_distribution)"
   ]
  },
  {
   "cell_type": "markdown",
   "id": "c6ac98e5-5ca9-451d-a8b5-c03250c231b1",
   "metadata": {},
   "source": []
  },
  {
   "cell_type": "code",
   "execution_count": 4,
   "id": "33939b88-7db6-4bf1-a3d5-5259729627c3",
   "metadata": {},
   "outputs": [
    {
     "data": {
      "image/png": "[encoded data removed]",
      "text/plain": [
       "<Figure size 432x288 with 1 Axes>"
      ]
     },
     "metadata": {
      "needs_background": "light"
     },
     "output_type": "display_data"
    }
   ],
   "source": [
    "# normal\n",
    "s= np.random.default_rng().normal(3, 2.5,1000)\n",
    "count, bins, ignored = plt.hist(s, 30, density=True)\n",
    "plt.plot(bins, 1/(2.5 * np.sqrt(2 * np.pi)) *\n",
    "                np.exp( - (bins - 3)**2 / (2 * 2.5**2) ),\n",
    "          linewidth=2, color='r')\n",
    "plt.show()"
   ]
  },
  {
   "cell_type": "code",
   "execution_count": null,
   "id": "0bddc639-bad2-4129-85d5-4dd6936b946e",
   "metadata": {},
   "outputs": [],
   "source": []
  },
  {
   "cell_type": "code",
   "execution_count": null,
   "id": "d96308c0-b60e-4a6e-8f69-e1d8c0cb46c8",
   "metadata": {},
   "outputs": [],
   "source": []
  }
 ],
 "metadata": {
  "kernelspec": {
   "display_name": "Python 3",
   "language": "python",
   "name": "python3"
  },
  "language_info": {
   "codemirror_mode": {
    "name": "ipython",
    "version": 3
   },
   "file_extension": ".py",
   "mimetype": "text/x-python",
   "name": "python",
   "nbconvert_exporter": "python",
   "pygments_lexer": "ipython3",
   "version": "3.8.8"
  }
 },
 "nbformat": 4,
 "nbformat_minor": 5
}
