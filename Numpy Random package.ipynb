{
 "cells": [
  {
   "cell_type": "markdown",
   "id": "b0be0df5-8a6d-42c0-ae13-05860c4caa90",
   "metadata": {},
   "source": [
    "# Numpy.random packagage\n",
    "***\n",
    "This notebook is part of the assessment of the course \"Programming for Data Analysis\". It explains the use of Numpy.random package and demostrates some features and distributions.\n",
    "<br>\n",
    "<br>"
   ]
  },
  {
   "cell_type": "markdown",
   "id": "5b1655c1-dc2a-415b-868c-29b0072684a8",
   "metadata": {},
   "source": [
    "## What is numpy and numpy.random package?\n",
    "**Numpy** is a python library that perform efficient calculations on multidimensional array and matrix data structures.\n",
    "<br>\n",
    "**numpy.random package** produces pseudo random numbers using combinations of a BitGenerator to create sequences and a Generator to use those sequences to sample from different statistical distributions[1]. <br>\n",
    "<br>"
   ]
  },
  {
   "cell_type": "markdown",
   "id": "54006d1b-bfb3-4ca5-bb55-c8b98d6d596d",
   "metadata": {},
   "source": [
    "## Simple Random Data \n",
    "https://numpy.org/doc/stable/reference/random/generator.html <br>\n",
    "***"
   ]
  },
  {
   "cell_type": "markdown",
   "id": "e81b901a-226d-4bd1-9999-4d81e1d66d36",
   "metadata": {},
   "source": [
    "**Why do we need random data?** <br>\n",
    "Random numbers are used for various purposes, from statistical analysis and probability theory, to cryptography and computer simulation. \n",
    "<br>\n",
    "<br>\n",
    "**How to generate random data?**<br>\n",
    "Generating Psuedo-random number is easy, get a new instance of generator first, then simply call .random(). Note the default type is a float."
   ]
  },
  {
   "cell_type": "code",
   "execution_count": 2,
   "id": "c93aa71b-dfa4-4894-b1a6-03c9b34036c2",
   "metadata": {},
   "outputs": [],
   "source": [
    "# set up\n",
    "import numpy as np\n",
    "import matplotlib.pyplot as plt\n",
    "import seaborn as sns"
   ]
  },
  {
   "cell_type": "markdown",
   "id": "a8339805-8d1e-494e-9996-f10bd3979d65",
   "metadata": {},
   "source": [
    "<br>"
   ]
  },
  {
   "cell_type": "markdown",
   "id": "738c52be-ce26-498d-b5da-e62603dc8eb6",
   "metadata": {},
   "source": [
    "#### Generate random floats\n",
    "It returns random float number or array of random float number between 0(inclusive) and 1 (exclusive). "
   ]
  },
  {
   "cell_type": "code",
   "execution_count": 3,
   "id": "252ca6f5-0139-407a-892e-2f9964884d98",
   "metadata": {},
   "outputs": [
    {
     "name": "stdout",
     "output_type": "stream",
     "text": [
      "0.9039264669013757\n"
     ]
    }
   ],
   "source": [
    "# get a new instance of Generator\n",
    "rng = np.random.default_rng()\n",
    "\n",
    "# Generating a random float\n",
    "a = rng.random() #size indicates number of random floats returned\n",
    "print(a)"
   ]
  },
  {
   "cell_type": "markdown",
   "id": "9041960c-1314-461f-9c24-ffcf328f07f6",
   "metadata": {},
   "source": [
    "Let's say I have a container of timber and want to know their length (in meter) when I randomly pick 10 of them. "
   ]
  },
  {
   "cell_type": "code",
   "execution_count": 9,
   "id": "6a62eec3-5c0b-4310-adc7-77da14978a28",
   "metadata": {},
   "outputs": [
    {
     "name": "stdout",
     "output_type": "stream",
     "text": [
      "[0.17698581 0.40198161 0.06643619 0.78672238 0.98964363 0.46827727\n",
      " 0.56751419 0.02473827 0.09203705 0.99227412]\n"
     ]
    }
   ],
   "source": [
    "timber = rng.random(size=10)\n",
    "print(timber)"
   ]
  },
  {
   "cell_type": "markdown",
   "id": "d3f3b539-b628-4407-a242-dc9f92e01bd3",
   "metadata": {},
   "source": [
    "10 timbers is a relatively sample to a container of it. Let's measure 10 groups of 10 samples."
   ]
  },
  {
   "cell_type": "code",
   "execution_count": 14,
   "id": "f115dbef-16ad-42dc-970c-4b97a664e1ef",
   "metadata": {},
   "outputs": [
    {
     "data": {
      "text/plain": [
       "array([[0.24776694, 0.19104799],\n",
       "       [0.36501748, 0.92423603],\n",
       "       [0.41729289, 0.6299754 ],\n",
       "       [0.01181768, 0.210706  ]])"
      ]
     },
     "execution_count": 14,
     "metadata": {},
     "output_type": "execute_result"
    }
   ],
   "source": [
    "# generate a 10-row x 10-element array of floats\n",
    "group timber=rng.random((10,10))"
   ]
  },
  {
   "cell_type": "code",
   "execution_count": 15,
   "id": "120f6f4b-0cbf-4399-91ee-c1a71864da0c",
   "metadata": {},
   "outputs": [
    {
     "data": {
      "text/plain": [
       "array([[-0.9369403 , -0.77229315],\n",
       "       [-0.34802802, -0.89977997]])"
      ]
     },
     "execution_count": 15,
     "metadata": {},
     "output_type": "execute_result"
    }
   ],
   "source": [
    "# obviously, timber can't be a negative floating point number, \n",
    "# but just to show numpy random is able to generate that.\n",
    "\n",
    "# to generate a 2x2 array of negative float between -1 to 0 (exclusive)\n",
    "1*rng.random((2,2))-1"
   ]
  },
  {
   "cell_type": "markdown",
   "id": "2889d216-fca0-4d3f-aa5d-233ebc04d54a",
   "metadata": {},
   "source": [
    "<br>"
   ]
  },
  {
   "cell_type": "markdown",
   "id": "97b09682-6e92-4bac-9f75-1c61d9102da8",
   "metadata": {},
   "source": [
    "#### Generate random integer\n",
    "It allows user to specify lower and upper bound of the integer, and the shape of output returned. Upper bound is default to be exclusive, unless specify endpoint as True. Lower bound, upper bound and size can be an integer or an array."
   ]
  },
  {
   "cell_type": "markdown",
   "id": "80ce117e-878d-4bd9-98fe-b2e6d45be300",
   "metadata": {},
   "source": [
    "Let's simulate rowing a die, and see what would be the outcome. The default is sampling from a discrete uniform distribution, which means each element in the range has equal probability to be picked. "
   ]
  },
  {
   "cell_type": "code",
   "execution_count": 16,
   "id": "e9a206ed-f459-4e07-9842-8b68d3d1d44d",
   "metadata": {},
   "outputs": [
    {
     "name": "stdout",
     "output_type": "stream",
     "text": [
      "3\n"
     ]
    }
   ],
   "source": [
    "# row 1 die\n",
    "die = rng.integers(1,7)\n",
    "\n",
    "# or we can use the endpoint parameter\n",
    "#die = rng.integers(1,6,endpoint=True)\n",
    "\n",
    "print(die)"
   ]
  },
  {
   "cell_type": "markdown",
   "id": "80f4d340-aed6-473c-9f1a-0bf8aec6a648",
   "metadata": {},
   "source": [
    "Let's see what the results would be if we row the die 10 times"
   ]
  },
  {
   "cell_type": "code",
   "execution_count": 17,
   "id": "bdc3a199-a42a-4bad-ab90-5e2e163d68ff",
   "metadata": {},
   "outputs": [
    {
     "data": {
      "text/plain": [
       "array([2, 5, 2, 5, 6, 6, 4, 1, 5, 3], dtype=int64)"
      ]
     },
     "execution_count": 17,
     "metadata": {},
     "output_type": "execute_result"
    }
   ],
   "source": [
    "# generate 10 random integers\n",
    "\n",
    "rng.integers(low=1, high=6,size=10, endpoint=True)"
   ]
  },
  {
   "cell_type": "markdown",
   "id": "3a405ce3-c079-4588-bd59-75b900690276",
   "metadata": {},
   "source": [
    "What about we repeat that 5 times?"
   ]
  },
  {
   "cell_type": "code",
   "execution_count": 18,
   "id": "170f8d9e-9aed-4f4f-a77f-c14ed8b286e3",
   "metadata": {},
   "outputs": [
    {
     "data": {
      "text/plain": [
       "array([[3, 5, 4, 3, 3, 1, 2, 4, 5, 4],\n",
       "       [2, 4, 1, 2, 4, 4, 3, 1, 4, 5],\n",
       "       [1, 4, 4, 4, 1, 2, 5, 2, 1, 3],\n",
       "       [1, 3, 5, 1, 3, 1, 4, 3, 3, 1],\n",
       "       [3, 4, 2, 5, 5, 5, 1, 4, 3, 5]], dtype=int64)"
      ]
     },
     "execution_count": 18,
     "metadata": {},
     "output_type": "execute_result"
    }
   ],
   "source": [
    "# generate a 5-row x 10-element array of integers\n",
    "rng.integers(low=1,high=6, size=[5,10])"
   ]
  },
  {
   "cell_type": "markdown",
   "id": "a57209f0-90fa-4f6c-ba93-574c245e04e9",
   "metadata": {},
   "source": [
    "Now a special die is introduced, whose faces are from 7 to 12. We throw both dice alternately 10 times, and see what the outcome would be. "
   ]
  },
  {
   "cell_type": "code",
   "execution_count": 20,
   "id": "d3a088b0-45e4-44cd-bccf-21657d6c0741",
   "metadata": {},
   "outputs": [
    {
     "data": {
      "text/plain": [
       "array([[ 6, 11],\n",
       "       [ 4, 11],\n",
       "       [ 6, 11],\n",
       "       [ 6,  9],\n",
       "       [ 2, 12],\n",
       "       [ 1,  8],\n",
       "       [ 2,  7],\n",
       "       [ 6,  8],\n",
       "       [ 2, 10],\n",
       "       [ 5,  8]], dtype=int64)"
      ]
     },
     "execution_count": 20,
     "metadata": {},
     "output_type": "execute_result"
    }
   ],
   "source": [
    "# generating a 10x2 array with lists of lower and upper bounds\n",
    "# with first element in all rows between 1 to 6, \n",
    "#　second elements between 7 to 12 (inclusive)\n",
    "\n",
    "rng.integers(low=[1,7],high=[6,12], size=(10,2), endpoint=True)"
   ]
  },
  {
   "cell_type": "markdown",
   "id": "bed60c56-6c9f-4fcb-91d0-24407eab9901",
   "metadata": {},
   "source": [
    "<br>"
   ]
  },
  {
   "cell_type": "markdown",
   "id": "0f6a9c81-28ae-4553-b8b4-3c8245016f26",
   "metadata": {},
   "source": [
    "#### Generate random sample from a given array\n",
    "The function **.choice()** generates random sample from a given array. It takes 6 parameters, allows rooms for customization, supports numpy array. The parameters are the given array or int, size of output, with or without replacement, set probability of each array or int, axis to permute, and option to shuffle the sample when sampling without replacement. It follows an uniform distribution if probability is not specified.\n",
    "<br>\n",
    "<br>\n",
    "Let's say we are simulating tossing a die 10 times and see the results"
   ]
  },
  {
   "cell_type": "code",
   "execution_count": 21,
   "id": "fdb376f7-6023-4a6d-b969-cc1ec11817e2",
   "metadata": {},
   "outputs": [
    {
     "name": "stdout",
     "output_type": "stream",
     "text": [
      "a fair die\n",
      "[ 2  2  2 23 23 27 23 17  5 12  5 12  5  2 23  5  8 23 27  5 12 27 12  8\n",
      " 23  5  2 17 17 17 23 27  2 23 17  2  2 17  2 12  5 23  2 17  2 27 17  8\n",
      " 12  8  8 17  2  5 27 27  5 23 23  2 23  5  5  8 17 12 12  2 27 27  2 17\n",
      "  8 12  8  5 27 23 27  5  8 12  5 12  2 17  2 12  5  5 23 12  5 27 27  5\n",
      "  8 23  5  5]\n"
     ]
    }
   ],
   "source": [
    "# .choice()\n",
    "die = np.arange(1,7) #a die with 6 faces\n",
    "# assume a fair die, with equal probability of each face\n",
    "#c = [2,5,8,12,17,23,27]\n",
    "a = rng.choice(a=die, size=100)\n",
    "print(\"a fair die\") \n",
    "print(a)"
   ]
  },
  {
   "cell_type": "markdown",
   "id": "88d41a58-97ee-48b9-b0e7-5f309f01010f",
   "metadata": {},
   "source": [
    "The above basically do the same as generating random integers, however .choice() can take in non-continuous range of number and take a random sample out of it as follows."
   ]
  },
  {
   "cell_type": "code",
   "execution_count": 24,
   "id": "4c4a1481-0345-4882-a393-6a338af781df",
   "metadata": {},
   "outputs": [
    {
     "name": "stdout",
     "output_type": "stream",
     "text": [
      "[ 2  8 27 27  5 12 12  2 27 12  5  5 17  8 17  5 27 23 17  2]\n"
     ]
    }
   ],
   "source": [
    "c = [2,5,8,12,17,23,27]\n",
    "c_random = rng.choice(a=c, size=20)\n",
    "print(c_random)"
   ]
  },
  {
   "cell_type": "code",
   "execution_count": 25,
   "id": "3745f208-6879-4569-be42-b1e5a2357ca3",
   "metadata": {},
   "outputs": [
    {
     "name": "stdout",
     "output_type": "stream",
     "text": [
      "an unfair die\n",
      "[1 6 3 1 3 6 1 3 4 2 3 6 3 1 3 1 3 4 1 3 2 2 3 1 3 1 3 3 3 3 4 4 3 2 2 1 2\n",
      " 3 3 1 6 3 3 6 2 2 2 2 1 1 1 2 1 5 2 2 2 3 1 1 1 2 3 2 2 1 2 1 5 2 3 4 2 2\n",
      " 4 4 1 1 4 1 2 6 2 2 3 4 1 2 2 2 5 1 1 2 1 1 4 1 3 1]\n",
      "----------------------------------\n",
      "Mean of 100 fair die toss is  12.7\n",
      "Median of 100 fair die toss is  12.0\n",
      "\n",
      "Mean of 100 unfair die toss is  2.48\n",
      "Median of 100 unfair die toss is  2.0\n"
     ]
    }
   ],
   "source": [
    "# Now the die is no longer fair, but with a given list of probability\n",
    "prob=[0.38, 0.28, 0.18, 0.08, 0.05, 0.03]\n",
    "b = rng.choice(a=die, p=prob, size=100)\n",
    "print(\"an unfair die\")\n",
    "print(b)\n",
    "print(\"----------------------------------\")\n",
    "\n",
    "print(f\"Mean of 100 fair die toss is \", a.mean())\n",
    "print(f\"Median of 100 fair die toss is \", np.median(a))\n",
    "print(\"\")\n",
    "print(f\"Mean of 100 unfair die toss is \", b.mean())\n",
    "print(f\"Median of 100 unfair die toss is \", np.median(b))"
   ]
  },
  {
   "cell_type": "markdown",
   "id": "8ee94543-1449-4f27-a917-8d91462b909b",
   "metadata": {},
   "source": [
    "Demostrates **replacement parameter** by simulating drawing card from a deck of 10 cards"
   ]
  },
  {
   "cell_type": "code",
   "execution_count": 45,
   "id": "7d2850d7-f27f-4a5c-9fdd-123ed1f190a1",
   "metadata": {},
   "outputs": [
    {
     "name": "stdout",
     "output_type": "stream",
     "text": [
      "The 10 cards drawn (without replacement) are: [ 5  4  2  6  3  1  8  7 10  9]\n",
      "\n",
      "The 10 cards drawn (with replacement) are: [ 6 10  5  3  8  3  8  7  5  5]\n",
      "\n",
      "The results of 10 trials of drawing 3 cards from a deck of 10 are: \n",
      " [[ 1  8 10]\n",
      " [ 7  5  6]\n",
      " [ 2  2  3]\n",
      " [ 3  6  4]\n",
      " [ 9  4  3]\n",
      " [10  8  3]\n",
      " [10  3  9]\n",
      " [ 8  8 10]\n",
      " [10  1  6]\n",
      " [ 3 10  9]]\n"
     ]
    }
   ],
   "source": [
    "# create a deck of 10 cards\n",
    "card = np.arange(1,11) \n",
    "\n",
    "#draw 10 cards out of 10, without replacement\n",
    "no_replace = rng.choice(a=card,size=10,replace=False)\n",
    "print(f\"The 10 cards drawn (without replacement) are:\", no_replace)\n",
    "print(\"\")\n",
    "\n",
    "#draw 10 cards out of 10, with replacement\n",
    "replace = rng.choice(a=card,size=10,replace=True)\n",
    "print(f\"The 10 cards drawn (with replacement) are:\", replace)\n",
    "print(\"\")\n",
    "\n",
    "# draw 3 cards out of 10, repeat 10 times with replacement\n",
    "draw10times= rng.choice(a=card,size=(10,3))\n",
    "print(f\"The results of 10 trials of drawing 3 cards from a deck of 10 are: \\n\", draw10times)"
   ]
  },
  {
   "cell_type": "markdown",
   "id": "48e106df-0220-4e15-9b4d-1bbbbad72303",
   "metadata": {},
   "source": [
    "**Generate random bytes**"
   ]
  },
  {
   "cell_type": "code",
   "execution_count": 46,
   "id": "70febda2-d4d9-4f7a-b7b5-c1e47084e7fc",
   "metadata": {},
   "outputs": [
    {
     "name": "stdout",
     "output_type": "stream",
     "text": [
      "b'\\xbe\\xd7q\\xd6\\xb8\\xb1\\x93' <class 'bytes'>\n"
     ]
    }
   ],
   "source": [
    " # return a string of random bytes with length of 7 \n",
    "a = rng.bytes(7)\n",
    "print (a, type(a)) # the bytes and is of type bytes\n"
   ]
  },
  {
   "cell_type": "markdown",
   "id": "6d15b7c5-4f0c-4336-a33f-1917f7d0c994",
   "metadata": {},
   "source": [
    "<br>\n",
    "<br>"
   ]
  },
  {
   "cell_type": "markdown",
   "id": "c3b3f030-fe9b-43dd-99ec-2612c21b6449",
   "metadata": {},
   "source": [
    "## Permutation\n",
    "https://numpy.org/doc/1.21/reference/random/generator.html?highlight=numpy%20generator#permutations <br>\n",
    "There are 3 ways of randomly modifying or permuting a sequence or array, namely shuffle, permutation, permuted."
   ]
  },
  {
   "cell_type": "markdown",
   "id": "418753ca-463c-4a9c-8015-bbc9803a2ad2",
   "metadata": {},
   "source": [
    "#### Shuffle\n",
    "It takes 2 paramenters, the numpy array, and the axis to shuffle (default to 0 if not given). It shuffles the numpy array in place, meaning the numpy array itself is changed. If a 2D array is given, order of sub-arrays is changed, but contents in the sub-arrays remain the same, works on 1D and 2D arrays."
   ]
  },
  {
   "cell_type": "code",
   "execution_count": 50,
   "id": "ce262e9c-b0a4-4a78-a4e4-1abc84ebbaf8",
   "metadata": {},
   "outputs": [
    {
     "name": "stdout",
     "output_type": "stream",
     "text": [
      "None\n",
      "[1 3 4 2 5]\n"
     ]
    }
   ],
   "source": [
    "# Shuffle\n",
    "arr = np.array([1, 2, 3, 4, 5])\n",
    "\n",
    "rng.shuffle(arr)\n",
    "print(rng.shuffle(arr)) \n",
    "print(arr)\n",
    "# It returns a shuffled sequence of elements in the array"
   ]
  },
  {
   "cell_type": "code",
   "execution_count": 48,
   "id": "fcc54956-0e20-443f-91ca-cf9a9ee9be90",
   "metadata": {},
   "outputs": [
    {
     "name": "stdout",
     "output_type": "stream",
     "text": [
      "None\n",
      "[[4 5 6 7]\n",
      " [1 2 3 4]\n",
      " [6 7 8 9]]\n"
     ]
    }
   ],
   "source": [
    "# shuffling 2d array\n",
    "arr2d = np.array([[1, 2, 3, 4],[4, 5, 6, 7],[6, 7, 8, 9]])\n",
    "\n",
    "rng.shuffle(arr2d)\n",
    "print(rng.shuffle(arr2d)) \n",
    "print(arr2d)\n",
    "# The sequence of sub-arrays is changed, \n",
    "# but the sequence of elements within the sub-arrays is not. "
   ]
  },
  {
   "cell_type": "code",
   "execution_count": 56,
   "id": "78e34949-73e2-4c06-b885-477c5d750e74",
   "metadata": {},
   "outputs": [
    {
     "name": "stdout",
     "output_type": "stream",
     "text": [
      "[[4 2 1 3]\n",
      " [7 5 4 6]\n",
      " [9 7 6 8]]\n"
     ]
    }
   ],
   "source": [
    "arr2d = np.array([[1, 2, 3, 4],[4, 5, 6, 7],[6, 7, 8, 9]])\n",
    "\n",
    "# what happen if axis is changed to 1\n",
    "np.random.default_rng().shuffle(arr2d, axis=1) \n",
    "\n",
    "print(arr2d)\n",
    "# the elements in the sub-arrays are shuffled the same way because they are on the same axis\n",
    "# the sequence of the sub-arrays is unchanged\n"
   ]
  },
  {
   "cell_type": "markdown",
   "id": "dac73daf-a871-4c69-b38d-bf1dccadd41c",
   "metadata": {},
   "source": [
    "<br>"
   ]
  },
  {
   "cell_type": "markdown",
   "id": "bbe3ddcc-faac-451b-9830-639c0f52036c",
   "metadata": {},
   "source": [
    "#### Permutation\n",
    "It returns a copy with randomly shuffled elements or sub-arrays, meaning the numpy array itself is not changed. It takes 2 paramenters, the numpy array, and the axis to shuffle (default to 0 if not given). "
   ]
  },
  {
   "cell_type": "code",
   "execution_count": 57,
   "id": "5114de8c-231c-4f00-a2ea-8f2fb4bd3964",
   "metadata": {},
   "outputs": [
    {
     "name": "stdout",
     "output_type": "stream",
     "text": [
      "[5 3 4 2 1]\n",
      "[1 2 3 4 5]\n"
     ]
    }
   ],
   "source": [
    "# Permutation\n",
    "arr = np.array([1, 2, 3, 4, 5])\n",
    "rng.permutation(arr)\n",
    "\n",
    "print(rng.permutation(arr))\n",
    "# a copy of permuted arr is returned\n",
    "\n",
    "print(arr)\n",
    "# arr remains unchanged, \n",
    "# the sequence of elements in the array is changed only when called"
   ]
  },
  {
   "cell_type": "code",
   "execution_count": 59,
   "id": "0a3b7b50-5cb1-4b01-8433-3b14be9f494c",
   "metadata": {},
   "outputs": [
    {
     "name": "stdout",
     "output_type": "stream",
     "text": [
      "[[6 7 8 9]\n",
      " [4 5 6 7]\n",
      " [1 2 3 4]]\n"
     ]
    }
   ],
   "source": [
    "# It also supports 2D array\n",
    "arr2d = np.array([[1, 2, 3, 4],[4, 5, 6, 7],[6, 7, 8, 9]])\n",
    "\n",
    "# permutation of 2d array\n",
    "rng.permutation(arr2d)\n",
    "print(rng.permutation(arr2d))\n",
    "\n",
    "# The sequence of sub-arrays is changed, \n",
    "# but the sequence of elements within the sub-arrays is not. "
   ]
  },
  {
   "cell_type": "code",
   "execution_count": 63,
   "id": "6083391e-df58-44cc-8e2d-15fab63c69d5",
   "metadata": {},
   "outputs": [
    {
     "name": "stdout",
     "output_type": "stream",
     "text": [
      "[[2 4 3 1]\n",
      " [5 7 6 4]\n",
      " [7 9 8 6]]\n",
      "\n",
      "Original array unchanged\n",
      "[[1 2 3 4]\n",
      " [4 5 6 7]\n",
      " [6 7 8 9]]\n"
     ]
    }
   ],
   "source": [
    "# what happen if axis is changed to 1\n",
    "print(rng.permutation(arr2d, axis=1))\n",
    "# Elements within the sub-arrays are shuffled the same way as they are on the same axis,\n",
    "# the sequence of the sub-arrays remains unchanged\n",
    "print(\"\")\n",
    "\n",
    "print(\"Original array unchanged\")\n",
    "print(arr2d)\n",
    "# arr2d remains unchanged"
   ]
  },
  {
   "cell_type": "markdown",
   "id": "ec65f7b5-bb13-4d74-8ac7-985fe4d62835",
   "metadata": {},
   "source": [
    "<br>"
   ]
  },
  {
   "cell_type": "markdown",
   "id": "283faf93-04b9-414b-8495-677ad7175422",
   "metadata": {},
   "source": [
    "#### Permuted\n",
    "It takes 3 parameters, the numpy array, the axis to shuffle (default to 0 if not given), and \"out\" which specify the destination of the shuffled array. If out is given, shuffled array is returned there; if out is none, a shuffled copy is returned. <br>\n",
    "It is a new method of permutation in NumPy version 1.21.0."
   ]
  },
  {
   "cell_type": "code",
   "execution_count": 66,
   "id": "ba0e882b-5da6-4e01-81fd-e91eb6390c71",
   "metadata": {},
   "outputs": [
    {
     "name": "stdout",
     "output_type": "stream",
     "text": [
      "Permuted array: \n",
      "[2 4 5 3 1]\n",
      "Original array: \n",
      "[1 2 3 4 5]\n"
     ]
    }
   ],
   "source": [
    "# Permutated\n",
    "arr=np.array([1,2,3,4,5])\n",
    "\n",
    "print(\"Permuted array: \")\n",
    "print(rng.permuted(arr))\n",
    "# a copy with the shuffled elements in the array is returned\n",
    "\n",
    "print(\"Original array: \")\n",
    "print(arr)\n",
    "# arr remains unchanged"
   ]
  },
  {
   "cell_type": "code",
   "execution_count": 72,
   "id": "08307ad0-5f51-4ac9-9c7b-be9deecdb1d1",
   "metadata": {},
   "outputs": [
    {
     "name": "stdout",
     "output_type": "stream",
     "text": [
      "Permuted array with axis = 1:\n",
      "[[3 4 2 1]\n",
      " [5 6 7 4]\n",
      " [8 6 7 9]]\n",
      "\n",
      "Permuted array with axis = 0:\n",
      "[[6 7 4 5]\n",
      " [8 6 2 4]\n",
      " [7 1 3 9]]\n",
      "\n",
      "Original array: \n",
      "[[1 2 3 4]\n",
      " [4 5 6 7]\n",
      " [6 7 8 9]]\n"
     ]
    }
   ],
   "source": [
    "# It supports 2d array too\n",
    "arr2d = np.array([[1, 2, 3, 4],[4, 5, 6, 7],[6, 7, 8, 9]])\n",
    "\n",
    "print(\"Permuted array with axis = 1:\")\n",
    "print(rng.permuted(arr2d, axis=1))\n",
    "# the sequence of sub-arrays remains unchanged, \n",
    "# but the elements within the arrays are randomly shuffled \n",
    "# each element is independent of elements on the same axis in other arrays, unlike .shuffle()\n",
    "\n",
    "# if axis is set to 0 or not given\n",
    "print(\"\")\n",
    "print(\"Permuted array with axis = 0:\")\n",
    "print(rng.permuted(arr2d))\n",
    "# the 2d array is flattened, all elements are shuffled\n",
    "# returns a 2d array in the same shape as arr2d\n",
    "\n",
    "print(\"\")\n",
    "print(\"Original array: \")\n",
    "print(arr2d) # arr2d is not changed\n"
   ]
  },
  {
   "cell_type": "markdown",
   "id": "88c32c7f-7874-4bd1-925d-77f6c86a5853",
   "metadata": {},
   "source": [
    "**out parameter in permuted function**"
   ]
  },
  {
   "cell_type": "code",
   "execution_count": 79,
   "id": "a6a468eb-c808-496f-95c3-d7932cb02d7f",
   "metadata": {},
   "outputs": [
    {
     "name": "stdout",
     "output_type": "stream",
     "text": [
      "Array y:\n",
      " [[4 2 1 3]\n",
      " [5 4 7 6]\n",
      " [7 9 6 8]]\n",
      "\n",
      "Array arr2d:\n",
      " [[4 2 1 3]\n",
      " [5 4 7 6]\n",
      " [7 9 6 8]]\n",
      "\n",
      "Is the array y the same as arry2d:\n"
     ]
    },
    {
     "data": {
      "text/plain": [
       "array([[ True,  True,  True,  True],\n",
       "       [ True,  True,  True,  True],\n",
       "       [ True,  True,  True,  True]])"
      ]
     },
     "execution_count": 79,
     "metadata": {},
     "output_type": "execute_result"
    }
   ],
   "source": [
    "# out parameter\n",
    "arr2d = np.array([[1, 2, 3, 4],[4, 5, 6, 7],[6, 7, 8, 9]])\n",
    "#shuffled sub-arrays will go to arr2d\n",
    "y = rng.permuted(arr2d, out = arr2d, axis=1) \n",
    "\n",
    "print(f\"Array y:\\n\", y) \n",
    "print(\"\")\n",
    "print(f\"Array arr2d:\\n\", arr2d) # arr2d is changed, as out is set to arr2d\n",
    "# and now y is same as arr2d\n",
    "print(\"\")\n",
    "print(\"Is the array y the same as arry2d:\")\n",
    "y == arr2d"
   ]
  },
  {
   "cell_type": "markdown",
   "id": "48483a6a-d330-4341-b15f-b782c7e0096e",
   "metadata": {},
   "source": [
    "<br>\n",
    "<br>"
   ]
  },
  {
   "cell_type": "markdown",
   "id": "99d31387-0f1d-483e-9e35-be1d70311006",
   "metadata": {},
   "source": [
    "## 5 interesting distributions for sampling \n",
    "***"
   ]
  },
  {
   "cell_type": "markdown",
   "id": "abd934d4-8aa1-48d1-9ffd-af0e6d8d6878",
   "metadata": {},
   "source": [
    "numpy.random package has also built-in a variety of distributions for random sampling for different use cases. The followings are explanation and visualization of some the the distributions. "
   ]
  },
  {
   "cell_type": "markdown",
   "id": "aedb192e-964c-4719-b015-1a0e7a0776c0",
   "metadata": {},
   "source": [
    "#### Binomial Distribution\n",
    "https://en.wikipedia.org/wiki/Binomial_distribution <br>\n",
    " <br>\n",
    "The binomial distribution is frequently used to **model the number of successes in a sample of size n** drawn with replacement from a population of size N [ref].\n",
    "The binomial distribution with parameters n and p represents the **discrete probability distribution** of the number of successes in a sequence of n independent experiments, each asking a yes–no question, and each with its own Boolean-valued outcome: success (with probability p) or failure (with probability q = 1 − p). For example the probability of getting a head, when tossing a coin 100 times. "
   ]
  },
  {
   "cell_type": "markdown",
   "id": "fc8b57bc-af44-4015-9760-5bd0832408bf",
   "metadata": {},
   "source": [
    "The main difference from a normal distribution is that **normal distribution is continous whereas binomial is discrete**. But if the trial number n is large  enough, binomial distribution will be quite similar to normal distribution with certain mean and median.<br>\n"
   ]
  },
  {
   "cell_type": "code",
   "execution_count": 15,
   "id": "cd8bf9ce",
   "metadata": {},
   "outputs": [
    {
     "data": {
      "image/png": "[encoded data removed]",
      "text/plain": [
       "<Figure size 432x288 with 1 Axes>"
      ]
     },
     "metadata": {
      "needs_background": "light"
     },
     "output_type": "display_data"
    }
   ],
   "source": [
    "# binomial distribution\n",
    "rng = np.random.default_rng()\n",
    "n, p = 10, .5  # number of trials, equal probability of each side\n",
    "plt.hist(rng.binomial(10,.5,10), label=\"10 trials\")\n",
    "\n",
    "plt.title(\"Distribution of getting a tail when repeating trial 10 times\")\n",
    "plt.xlabel(\"Times of tail when flipping a coin 10 times\")\n",
    "plt.ylabel(\"Frequency\")\n",
    "plt.legend()\n",
    "plt.show()"
   ]
  },
  {
   "cell_type": "code",
   "execution_count": 37,
   "id": "81a14634-31f3-4946-a081-cd427e8402b3",
   "metadata": {},
   "outputs": [
    {
     "data": {
      "image/png": "[encoded data removed]",
      "text/plain": [
       "<Figure size 400x800 with 3 Axes>"
      ]
     },
     "metadata": {},
     "output_type": "display_data"
    }
   ],
   "source": [
    "# binomial distribution of different sample sizes\n",
    "\n",
    "# tossing a coin 10 times with equal probability of getting each side\n",
    "# The different in distribution among differnt times of trials\n",
    "rng = np.random.default_rng()\n",
    "n, p = 10, .5  # number of trials, equal probability of each side\n",
    "plt.rcParams[\"figure.figsize\"] = (5,10)\n",
    "plt.style.use(\"ggplot\")\n",
    "fig,axs = plt.subplots(3,1, sharex=True)\n",
    "\n",
    "plt.suptitle(\"Binomial Distribution of different sample size\")\n",
    "axs[0].hist(rng.binomial(n,p,100), label=\"100 trials\")\n",
    "axs[1].hist(rng.binomial(n,p,1000), label=\"1000 trials\")\n",
    "axs[2].hist(rng.binomial(n,p,10000), label=\"10000 trials\")\n",
    "\n",
    "axs[0].legend()\n",
    "axs[1].legend()\n",
    "axs[2].legend()\n",
    "plt.xlabel(\"Times of tail when flipping a coin 10 times\")\n",
    "plt.ylabel(\"Frequency\")\n",
    "plt.tight_layout()\n",
    "plt.show()"
   ]
  },
  {
   "cell_type": "markdown",
   "id": "e3b3b68a",
   "metadata": {},
   "source": [
    "As sample size grows, it tends to look more like a normal distribution. "
   ]
  },
  {
   "cell_type": "markdown",
   "id": "cd4df688-57f5-41b9-892f-e2178c7f2493",
   "metadata": {},
   "source": [
    "<br>"
   ]
  },
  {
   "cell_type": "markdown",
   "id": "1859e321-6322-4b31-a2ca-50314a8110a2",
   "metadata": {},
   "source": [
    "#### Exponential Distribution\n",
    "https://en.wikipedia.org/wiki/Exponential_distribution <br>\n",
    "It models the time betwen events, eg. how long would it takes until next visitor browsing the website. With a given rate (lambda), \n",
    "<br>\n",
    "It is an inverse of Poisson distribution which models how many events happens within a given time. <br> e.G. given average visitor/hour =10; \n",
    "**plots**\n",
    "it takes 2 parameters, scale which is inverse of rate (lambda), defaults to 1.0; and size is shape of returned array.\n",
    "- x-axis is the amount of time between events, y-axis is scaled so that the total area under the curve equals 1<br>\n",
    "- exponential function's goal is to find optimal value for lambda of given xy values\n"
   ]
  },
  {
   "cell_type": "code",
   "execution_count": 20,
   "id": "0e9e9303-fa28-49cf-9ff4-6123a3a743f0",
   "metadata": {},
   "outputs": [],
   "source": [
    "expon = rng.exponential (scale=1, size=1000)"
   ]
  },
  {
   "cell_type": "code",
   "execution_count": 22,
   "id": "da46998f-7750-4113-ae05-4068768834e7",
   "metadata": {},
   "outputs": [
    {
     "data": {
      "image/png": "[encoded data removed]",
      "text/plain": [
       "<Figure size 360x360 with 1 Axes>"
      ]
     },
     "metadata": {
      "needs_background": "light"
     },
     "output_type": "display_data"
    }
   ],
   "source": [
    "#plt.hist(expon)\n",
    "sns.displot(expon, kde=True)\n",
    "plt.show()"
   ]
  },
  {
   "cell_type": "markdown",
   "id": "06178ff6-4a87-4efe-a29e-b3729810fef8",
   "metadata": {},
   "source": [
    "## Scenario of exponential distribution?"
   ]
  },
  {
   "cell_type": "markdown",
   "id": "cc1007cc-59b0-4bcc-a089-3e01a641f561",
   "metadata": {},
   "source": [
    "#### Chi-square Distribution\n",
    "https://en.wikipedia.org/wiki/Chi-squared_distribution#Introduction <br>\n",
    "The chi-square distribution is widely used in **hypothesis testing** and contructing confidence interval. Chi-square test is used for determining if 2 categorical variables (gender, age range, preference of ice-cream flavours etc.) are **significantly correlated** or determining **goodness of fit** by comparing expected frequenycy to actual frequency at a certain level of confidence (usually 95%). <br>\n",
    "\n",
    "It takes 2 parameters, degree of freedom (df), and size as shape of output.\n"
   ]
  },
  {
   "cell_type": "code",
   "execution_count": 5,
   "id": "6becd4a8-f961-4c65-a71a-ef43790158ee",
   "metadata": {},
   "outputs": [
    {
     "name": "stdout",
     "output_type": "stream",
     "text": [
      "[[1.02024856 2.06679688 3.79542143 2.28093817]\n",
      " [0.80570768 3.11875572 1.80007425 7.66347418]]\n"
     ]
    }
   ],
   "source": [
    "# chi-square\n",
    "\n",
    "#generate an output array of 2-row with 4-element each\n",
    "x = rng.chisquare(df=2, size=[2,4]) \n",
    "print(x)"
   ]
  },
  {
   "cell_type": "markdown",
   "id": "bb68fae5-2dbb-4842-87be-7520c370a227",
   "metadata": {},
   "source": [
    "**Visualization of chi-square distribution**"
   ]
  },
  {
   "cell_type": "code",
   "execution_count": 49,
   "id": "52903cdd-2597-490b-8e00-9aa99aa1fe4d",
   "metadata": {},
   "outputs": [
    {
     "data": {
      "image/png": "[encoded data removed]",
      "text/plain": [
       "<Figure size 360x360 with 1 Axes>"
      ]
     },
     "metadata": {
      "needs_background": "light"
     },
     "output_type": "display_data"
    }
   ],
   "source": [
    "x2=rng.chisquare(df=2,size=1000)\n",
    "sns.displot(x2, kind=\"kde\",label=\"mean\")\n",
    "plt.title(\"Chi-square distiribution\")\n",
    "plt.xlabel(\"x\")\n",
    "plt.legend()\n",
    "plt.show()"
   ]
  },
  {
   "cell_type": "markdown",
   "id": "2b4f6045-f04c-481d-b458-98009ef01e00",
   "metadata": {},
   "source": [
    "#### Uniform Distribution\n",
    "(https://en.wikipedia.org/wiki/Discrete_uniform_distribution) <br>\n",
    "Uniform distribution essentially means there are a known, finite number of outcomes, each has equal probability to happen. An example is throwing a fair dice, with 6 known, finite outcomes 1,2,3,4,5,6. Each time the die is thrown, the probability of a given outcome is 1/6.<br>\n",
    "It has 3 parameters, low = lower bound, high = upper bound, size=shape of returned array."
   ]
  },
  {
   "cell_type": "code",
   "execution_count": 27,
   "id": "e3259e4c-be42-417d-9269-a5ffafc45212",
   "metadata": {},
   "outputs": [],
   "source": [
    "# generate an array of 1000 samples between 1 to 5 \n",
    "# based on uniform distribution\n",
    "\n",
    "s = rng.uniform(1,5,1000)\n",
    "#print (s)"
   ]
  },
  {
   "cell_type": "markdown",
   "id": "44e7241e-19f6-439b-a5ca-72e5fc248e39",
   "metadata": {},
   "source": [
    "**Visualization of uniform distribution**"
   ]
  },
  {
   "cell_type": "code",
   "execution_count": 28,
   "id": "883dbd57",
   "metadata": {},
   "outputs": [
    {
     "data": {
      "image/png": "[encoded data removed]",
      "text/plain": [
       "<Figure size 360x360 with 1 Axes>"
      ]
     },
     "metadata": {
      "needs_background": "light"
     },
     "output_type": "display_data"
    }
   ],
   "source": [
    "plt.rcParams[\"figure.figsize\"] = (5,5)\n",
    "bins=6\n",
    "plt.hist(rng.uniform(1,6,10),bins)\n",
    "plt.style.use(\"ggplot\")\n",
    "plt.title(\"Disttibution of outcome when throwing a die 10 times\")\n",
    "plt.yticks()\n",
    "plt.xticks()\n",
    "plt.xlabel(\"\")\n",
    "plt.ylabel(\"Count\")\n",
    "plt.show()"
   ]
  },
  {
   "cell_type": "code",
   "execution_count": 55,
   "id": "b65d8251-ff32-4839-b9f6-6cb599abd996",
   "metadata": {},
   "outputs": [
    {
     "data": {
      "image/png": "[encoded data removed]",
      "text/plain": [
       "<Figure size 400x800 with 3 Axes>"
      ]
     },
     "metadata": {},
     "output_type": "display_data"
    }
   ],
   "source": [
    "# multiple subplots of different sample size\n",
    "\n",
    "plt.rcParams[\"figure.figsize\"] = (5,10)\n",
    "fig, axs = plt.subplots(3,1,sharex=True)\n",
    "plt.suptitle(\"Uniform Distribution of different sample size\")\n",
    "bins=6\n",
    "axs[0].hist(rng.uniform(1,6,10), bins)\n",
    "axs[1].hist(rng.uniform(1,6,100),bins)\n",
    "axs[2].hist(rng.uniform(1,6,1000),bins)\n",
    "\n",
    "plt.ylabel(\"Frequency\")\n",
    "plt.tight_layout()\n",
    "plt.show()"
   ]
  },
  {
   "cell_type": "markdown",
   "id": "c190df0e-8ce5-4932-9cd6-cae0024d6a12",
   "metadata": {},
   "source": [
    "As the sample size grows, the distribution becomes more uniform."
   ]
  },
  {
   "cell_type": "markdown",
   "id": "f76a6589-31fd-481e-ac5e-f9cd99689942",
   "metadata": {},
   "source": [
    "#### Normal Distribution\n",
    "https://en.wikipedia.org/wiki/Normal_distribution <br>\n",
    "Normal distribution is well-known of its bell-shaped curve. It can apply in many events, for example height of a given group, test scores, blood pressure etc. It takes 3 parameters namely means, standard deviation and size which would define the shape of the plots. <br>\n"
   ]
  },
  {
   "cell_type": "markdown",
   "id": "c6ac98e5-5ca9-451d-a8b5-c03250c231b1",
   "metadata": {},
   "source": [
    "For example, distribution of height of student in a school with mean=150cm, standarda deviation=5cm, sample size=100."
   ]
  },
  {
   "cell_type": "code",
   "execution_count": 46,
   "id": "3e3184fe-4540-4c0c-9e59-ac48e699c506",
   "metadata": {},
   "outputs": [
    {
     "data": {
      "image/png": "[encoded data removed]",
      "text/plain": [
       "<Figure size 360x360 with 1 Axes>"
      ]
     },
     "metadata": {},
     "output_type": "display_data"
    }
   ],
   "source": [
    "plt.rcParams[\"figure.figsize\"] = (5,5)\n",
    "norA= rng.normal(150, 5, 100)\n",
    "plt.hist(nor,bins=10)\n",
    "plt.ylabel(\"Frequency\")\n",
    "plt.xlabel(\"Height in cm\")\n",
    "plt.title(\"Distrubution of height of school A\")\n",
    "\n",
    "plt.show()"
   ]
  },
  {
   "cell_type": "markdown",
   "id": "b0c97e5d-f61d-49c6-a70e-14a7947ec45c",
   "metadata": {},
   "source": [
    "Here we have another distribution of height of School B with mean=160cm, standard deviation=7.5, sample size=100."
   ]
  },
  {
   "cell_type": "code",
   "execution_count": 47,
   "id": "33939b88-7db6-4bf1-a3d5-5259729627c3",
   "metadata": {},
   "outputs": [
    {
     "data": {
      "image/png": "[encoded data removed]",
      "text/plain": [
       "<Figure size 360x360 with 1 Axes>"
      ]
     },
     "metadata": {},
     "output_type": "display_data"
    }
   ],
   "source": [
    "# normal distribution of school B\n",
    "plt.rcParams[\"figure.figsize\"] = (5,5)\n",
    "norB=rng.normal(160, 10, 100)\n",
    "nrB= rng.normal(160,)\n",
    "plt.hist(nor,bins=10)\n",
    "plt.ylabel(\"Frequency\")\n",
    "plt.xlabel(\"Height in cm\")\n",
    "plt.title(\"Distrubution of height of school A\")\n",
    "\n",
    "plt.show()"
   ]
  },
  {
   "cell_type": "markdown",
   "id": "97e03bfb-edb4-459f-849a-70f591e41c3f",
   "metadata": {},
   "source": [
    "At a glance, the distribution of school A and school B look more or less the same. <br>\n",
    "Let see them on a seaborn displot <br>\n",
    "The bell shape is shown by a distplot as well."
   ]
  },
  {
   "cell_type": "code",
   "execution_count": 54,
   "id": "9cab928e-baa0-4fe0-bcee-3fc4930713a7",
   "metadata": {},
   "outputs": [
    {
     "ename": "AttributeError",
     "evalue": "'dict' object has no attribute 'dis'",
     "output_type": "error",
     "traceback": [
      "\u001b[1;31m---------------------------------------------------------------------------\u001b[0m",
      "\u001b[1;31mAttributeError\u001b[0m                            Traceback (most recent call last)",
      "\u001b[1;32m<ipython-input-54-b0846898823e>\u001b[0m in \u001b[0;36m<module>\u001b[1;34m\u001b[0m\n\u001b[0;32m      1\u001b[0m \u001b[0mheight\u001b[0m\u001b[1;33m=\u001b[0m\u001b[1;33m{\u001b[0m\u001b[1;34m\"school\"\u001b[0m\u001b[1;33m:\u001b[0m\u001b[1;33m[\u001b[0m\u001b[1;34m\"schoolA\"\u001b[0m\u001b[1;33m,\u001b[0m\u001b[1;34m\"schoolB\"\u001b[0m\u001b[1;33m]\u001b[0m\u001b[1;33m,\u001b[0m \u001b[1;34m\"dis\"\u001b[0m\u001b[1;33m:\u001b[0m\u001b[1;33m[\u001b[0m\u001b[0mnorA\u001b[0m\u001b[1;33m,\u001b[0m\u001b[0mnorB\u001b[0m\u001b[1;33m]\u001b[0m\u001b[1;33m}\u001b[0m\u001b[1;33m\u001b[0m\u001b[1;33m\u001b[0m\u001b[0m\n\u001b[0;32m      2\u001b[0m \u001b[1;31m# plt.title(\"Distribution of height of school A and B\")\u001b[0m\u001b[1;33m\u001b[0m\u001b[1;33m\u001b[0m\u001b[1;33m\u001b[0m\u001b[0m\n\u001b[1;32m----> 3\u001b[1;33m \u001b[0msns\u001b[0m\u001b[1;33m.\u001b[0m\u001b[0mdisplot\u001b[0m\u001b[1;33m(\u001b[0m\u001b[0mdata\u001b[0m\u001b[1;33m=\u001b[0m\u001b[0mheight\u001b[0m\u001b[1;33m.\u001b[0m\u001b[0mdis\u001b[0m\u001b[1;33m,\u001b[0m \u001b[0mhue\u001b[0m\u001b[1;33m=\u001b[0m\u001b[1;34m\"school\"\u001b[0m\u001b[1;33m,\u001b[0m \u001b[0mkind\u001b[0m\u001b[1;33m=\u001b[0m\u001b[1;34m\"kde\"\u001b[0m\u001b[1;33m)\u001b[0m\u001b[1;33m\u001b[0m\u001b[1;33m\u001b[0m\u001b[0m\n\u001b[0m\u001b[0;32m      4\u001b[0m \u001b[1;31m#sns.displot(norB, kind=\"kde\")\u001b[0m\u001b[1;33m\u001b[0m\u001b[1;33m\u001b[0m\u001b[1;33m\u001b[0m\u001b[0m\n\u001b[0;32m      5\u001b[0m \u001b[1;31m#plt.legend()\u001b[0m\u001b[1;33m\u001b[0m\u001b[1;33m\u001b[0m\u001b[1;33m\u001b[0m\u001b[0m\n",
      "\u001b[1;31mAttributeError\u001b[0m: 'dict' object has no attribute 'dis'"
     ]
    }
   ],
   "source": [
    "height={\"school\":[\"schoolA\",\"schoolB\"], \"dis\":[norA,norB]}\n",
    "# plt.title(\"Distribution of height of school A and B\")\n",
    "sns.displot(data=height.dis, hue=\"school\", kind=\"kde\")\n",
    "#sns.displot(norB, kind=\"kde\")\n",
    "#plt.legend()\n"
   ]
  },
  {
   "cell_type": "code",
   "execution_count": null,
   "id": "d96308c0-b60e-4a6e-8f69-e1d8c0cb46c8",
   "metadata": {},
   "outputs": [],
   "source": []
  },
  {
   "cell_type": "markdown",
   "id": "3d5b2c89-e09d-4c7b-bfcf-8c6dac5677a8",
   "metadata": {},
   "source": [
    "## What is Seeding\n",
    "Seeding is to make sure same sets of psuedo random number is generated for easier replication of output. If you provide the same seed, you will get the same output. And if you change the seed, you will get a different output. The output generated depends on the input given.<br/>\n",
    "It is not absolutely necessary to seed, but it should be used if you want your code to produce repeatable outputs.<br>\n"
   ]
  },
  {
   "cell_type": "code",
   "execution_count": null,
   "id": "e9dfd345-918a-48e1-997b-bb3aa36e03bf",
   "metadata": {},
   "outputs": [],
   "source": [
    "**How to Seed?**"
   ]
  },
  {
   "cell_type": "code",
   "execution_count": 103,
   "id": "3269fa62-20a6-4cf8-b8ef-0e7fb1868c3c",
   "metadata": {},
   "outputs": [
    {
     "name": "stdout",
     "output_type": "stream",
     "text": [
      "[0.26161213 0.29849114 0.81422574 0.09191594 0.60010053 0.72856053\n",
      " 0.18790107 0.05514663 0.27496937 0.65743301]\n",
      "[0.95600171 0.20768181 0.82844489 0.14928212 0.51280462 0.1359196\n",
      " 0.68903648 0.84174772 0.425509   0.956926  ]\n"
     ]
    }
   ],
   "source": [
    "seed = 2\n",
    "seed2 = 10\n",
    "\n",
    "rng=np.random.default_rng(seed=seed)\n",
    "# generate 10 random float numbers between 0 and 1\n",
    "print(rng.random(size = 10))\n",
    "\n",
    "rng2 = np.random.default_rng(seed=seed2)\n",
    "print(rng2.random(size=10))\n",
    "\n",
    "# different seeds different output"
   ]
  },
  {
   "cell_type": "code",
   "execution_count": 105,
   "id": "ba57695f-e485-478d-8472-9df10897ae92",
   "metadata": {},
   "outputs": [
    {
     "name": "stdout",
     "output_type": "stream",
     "text": [
      "[0.26161213 0.29849114 0.81422574 0.09191594 0.60010053 0.72856053\n",
      " 0.18790107 0.05514663 0.27496937 0.65743301]\n"
     ]
    }
   ],
   "source": [
    "rng=np.random.default_rng(seed=seed)\n",
    "print(rng.random(size = 10))\n",
    "# same seed same output"
   ]
  },
  {
   "cell_type": "markdown",
   "id": "d7e3fefd-dfc8-4548-b586-8de6bbc2aa34",
   "metadata": {},
   "source": [
    "<br>"
   ]
  },
  {
   "cell_type": "markdown",
   "id": "375b048c-a014-49e8-a102-b7a59145a57b",
   "metadata": {},
   "source": [
    "**Without seed** <br>\n",
    "Different output is generated every time."
   ]
  },
  {
   "cell_type": "code",
   "execution_count": 106,
   "id": "93e7a655-d263-4088-b206-6afd6714b9eb",
   "metadata": {},
   "outputs": [
    {
     "name": "stdout",
     "output_type": "stream",
     "text": [
      "[0.06666797 0.89630717 0.83824844 0.37975446 0.31130554 0.80998773\n",
      " 0.05758306 0.55155063 0.49020576 0.13540804]\n",
      "[0.65026264 0.53697409 0.17851972 0.16942076 0.69406627 0.81838613\n",
      " 0.48705831 0.42936526 0.0507575  0.82600262]\n",
      "[0.35837896 0.48889788 0.18370619 0.13134499 0.15210518 0.12574341\n",
      " 0.50148728 0.85776133 0.26194927 0.92346131]\n"
     ]
    }
   ],
   "source": [
    "rng=np.random.default_rng()\n",
    "print (rng.random(size=10))\n",
    "print (rng.random(size=10))\n",
    "print (rng.random(size=10))"
   ]
  },
  {
   "cell_type": "markdown",
   "id": "e691dbcf-50d4-4b0e-9bcf-66c84283e51e",
   "metadata": {},
   "source": [
    "<br>"
   ]
  },
  {
   "cell_type": "markdown",
   "id": "0b4bec1d-5e2e-4284-b46e-714d92a2fae7",
   "metadata": {},
   "source": [
    "**PCG64 vs MT19937**<br>\n",
    "<br>\n",
    "numpy.random recently changed the Psuedo Random Number Generator from **Mersenne Twister** to **Permuted Congruential Generator(PCG64)**. Based on pcg-random.org[4], PCG is faster, more compact which means using less memory, harder to predict, support multiple streams (analogy of 1 code book vs multiple code books), smaller code size and complexity. <br>\n",
    "\n",
    "\n",
    "\n",
    "https://numpy.org/doc/stable/reference/random/bit_generators/mt19937.html#numpy.random.MT19937\n",
    "https://numpy.org/doc/stable/reference/random/bit_generators/pcg64.html#numpy.random.PCG64 "
   ]
  },
  {
   "cell_type": "code",
   "execution_count": null,
   "id": "062a372d-3355-419e-9261-b2c5da2507e5",
   "metadata": {},
   "outputs": [],
   "source": []
  },
  {
   "cell_type": "code",
   "execution_count": null,
   "id": "19ef7970-7783-4d57-8e1c-eb2d52785887",
   "metadata": {},
   "outputs": [],
   "source": []
  },
  {
   "cell_type": "markdown",
   "id": "1de2f400-2deb-4072-be4f-0671629e0439",
   "metadata": {},
   "source": [
    "## References\n",
    "***"
   ]
  },
  {
   "cell_type": "markdown",
   "id": "48ada16d-1d77-44be-91a5-58b5f98a3589",
   "metadata": {},
   "source": [
    "[1] https://numpy.org/doc/stable/reference/random/index.html?highlight=numpy%20random#module-numpy.random"
   ]
  },
  {
   "cell_type": "markdown",
   "id": "53d67e2d-84ce-48a4-a524-9f65854bface",
   "metadata": {},
   "source": [
    "[2]"
   ]
  },
  {
   "cell_type": "markdown",
   "id": "828d440c-7b4e-4178-9894-db98ae429a5b",
   "metadata": {},
   "source": [
    "[4] https://www.pcg-random.org"
   ]
  },
  {
   "cell_type": "code",
   "execution_count": null,
   "id": "9053d21e-bf81-435b-a887-81d33388a803",
   "metadata": {},
   "outputs": [],
   "source": []
  },
  {
   "cell_type": "code",
   "execution_count": null,
   "id": "eeb4e624-b53b-41e5-bfc5-802512c30f17",
   "metadata": {},
   "outputs": [],
   "source": []
  }
 ],
 "metadata": {
  "kernelspec": {
   "display_name": "Python 3",
   "language": "python",
   "name": "python3"
  },
  "language_info": {
   "codemirror_mode": {
    "name": "ipython",
    "version": 3
   },
   "file_extension": ".py",
   "mimetype": "text/x-python",
   "name": "python",
   "nbconvert_exporter": "python",
   "pygments_lexer": "ipython3",
   "version": "3.8.8"
  }
 },
 "nbformat": 4,
 "nbformat_minor": 5
}
